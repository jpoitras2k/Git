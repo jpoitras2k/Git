{
 "cells": [
  {
   "cell_type": "markdown",
   "id": "a974df58",
   "metadata": {},
   "source": [
    "You will need to reload the Iris dataset.\n",
    "\n",
    "You need to code the following tasks to complete this Mission in the editor provided:\n",
    "\n",
    "Load the Iris dataset from the Scikit-Learn library.\n",
    "Extract data tuple with index 9 and its target.\n",
    "Extract the sepal width (in cm) of the plant with index 9 and its target label as in integer 0, 1 or 2.\n",
    "Your code should return the image of the ninth index’s sepal_width and its label.\n",
    "\n",
    "HINT: The sepal width (in cm) is the element with index 1 in the data tuple."
   ]
  },
  {
   "cell_type": "code",
   "execution_count": null,
   "id": "d5d3bb3b",
   "metadata": {},
   "outputs": [
    {
     "name": "stdout",
     "output_type": "stream",
     "text": [
      "Sepal width of plant at index 9: 3.1 cm\n"
     ]
    }
   ],
   "source": [
    "# Load the Iris dataset from the sklearn library\n",
    "from sklearn.datasets import load_iris\n",
    "\n",
    "# Extract Data Tuble with index 9 and its target. The returned object is a dictionary\n",
    "dataset = load_iris()\n",
    "index_to_extract = 9\n",
    "#Extract the sepal width (in cm) of the plant with index 9 and its target label as integer 0, 1, or 2. The sepal width (in cm) is the element with index 1 in the data tuple.\n",
    "sepal_width = dataset.data[index_to_extract][1]\n",
    "label = dataset.target[index_to_extract]\n",
    "print(f\"Sepal width of plant at index {index_to_extract}: {sepal_width} cm\")\n",
    "print(f\"Target label of plant at index {index_to_extract}: {label}\")\n",
    "\n"
   ]
  }
 ],
 "metadata": {
  "kernelspec": {
   "display_name": ".venv",
   "language": "python",
   "name": "python3"
  },
  "language_info": {
   "codemirror_mode": {
    "name": "ipython",
    "version": 3
   },
   "file_extension": ".py",
   "mimetype": "text/x-python",
   "name": "python",
   "nbconvert_exporter": "python",
   "pygments_lexer": "ipython3",
   "version": "3.14.0"
  }
 },
 "nbformat": 4,
 "nbformat_minor": 5
}
