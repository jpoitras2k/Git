{
 "cells": [
  {
   "cell_type": "markdown",
   "id": "cc0d425e-3c0c-4426-b11d-1cb2f8bee02a",
   "metadata": {},
   "source": [
    "<h1><center> Module 1 - Lesson 7 </center></h1>\n",
    "\n",
    "#### Input / Output: \n",
    "\n",
    "---\n",
    "- User input\n",
    "- Open files with read/write/append\n",
    "- Open data from Libraries\n",
    "- Open data from files with a library (Pandas)"
   ]
  },
  {
   "cell_type": "markdown",
   "id": "4f6aecb9-ebe6-4d87-86bb-b96cd7e70e59",
   "metadata": {},
   "source": [
    "### User Input in Real Time"
   ]
  },
  {
   "cell_type": "code",
   "execution_count": 3,
   "id": "fbcc0301-e0b2-4674-a04e-81f1c9911c5b",
   "metadata": {},
   "outputs": [
    {
     "name": "stdin",
     "output_type": "stream",
     "text": [
      "Enter your input! 22\n"
     ]
    },
    {
     "data": {
      "text/plain": [
       "'22'"
      ]
     },
     "execution_count": 3,
     "metadata": {},
     "output_type": "execute_result"
    }
   ],
   "source": [
    "input(\"Enter your input!\")"
   ]
  },
  {
   "cell_type": "code",
   "execution_count": 4,
   "id": "4b3f7494-481a-4e17-8c8c-3cd6fa132cc7",
   "metadata": {},
   "outputs": [
    {
     "name": "stdin",
     "output_type": "stream",
     "text": [
      "Enter your age: 42\n"
     ]
    }
   ],
   "source": [
    "age = input(\"Enter your age:\")"
   ]
  },
  {
   "cell_type": "code",
   "execution_count": 5,
   "id": "2998d4a0-dfe3-4e3a-b47c-58d5b99b0847",
   "metadata": {},
   "outputs": [
    {
     "data": {
      "text/plain": [
       "'42'"
      ]
     },
     "execution_count": 5,
     "metadata": {},
     "output_type": "execute_result"
    }
   ],
   "source": [
    "age"
   ]
  },
  {
   "cell_type": "code",
   "execution_count": 6,
   "id": "03426c3f-a218-41c8-9ac0-5fac4fd4a8d2",
   "metadata": {},
   "outputs": [
    {
     "ename": "TypeError",
     "evalue": "unsupported operand type(s) for -: 'int' and 'str'",
     "output_type": "error",
     "traceback": [
      "\u001b[1;31m---------------------------------------------------------------------------\u001b[0m",
      "\u001b[1;31mTypeError\u001b[0m                                 Traceback (most recent call last)",
      "Cell \u001b[1;32mIn[6], line 1\u001b[0m\n\u001b[1;32m----> 1\u001b[0m years_until_retirement \u001b[38;5;241m=\u001b[39m \u001b[38;5;241;43m65\u001b[39;49m\u001b[43m \u001b[49m\u001b[38;5;241;43m-\u001b[39;49m\u001b[43m \u001b[49m\u001b[43mage\u001b[49m\n\u001b[0;32m      2\u001b[0m years_until_retirement\n",
      "\u001b[1;31mTypeError\u001b[0m: unsupported operand type(s) for -: 'int' and 'str'"
     ]
    }
   ],
   "source": [
    "years_until_retirement = 65 - age\n",
    "years_until_retirement"
   ]
  },
  {
   "cell_type": "code",
   "execution_count": 38,
   "id": "d921d495-6a01-4f81-b105-f5bda1213bba",
   "metadata": {},
   "outputs": [
    {
     "data": {
      "text/plain": [
       "str"
      ]
     },
     "execution_count": 38,
     "metadata": {},
     "output_type": "execute_result"
    }
   ],
   "source": [
    "type(age)"
   ]
  },
  {
   "cell_type": "code",
   "execution_count": 42,
   "id": "01eb1281-d268-4e66-b52b-513df2ba89ca",
   "metadata": {},
   "outputs": [
    {
     "name": "stdin",
     "output_type": "stream",
     "text": [
      "Enter your age: 22\n"
     ]
    },
    {
     "data": {
      "text/plain": [
       "22"
      ]
     },
     "execution_count": 42,
     "metadata": {},
     "output_type": "execute_result"
    }
   ],
   "source": [
    "age = int(input(\"Enter your age:\"))\n",
    "age"
   ]
  },
  {
   "cell_type": "code",
   "execution_count": 44,
   "id": "c86d2fa8-98c4-4a2e-8116-edad70e60c17",
   "metadata": {},
   "outputs": [
    {
     "data": {
      "text/plain": [
       "int"
      ]
     },
     "execution_count": 44,
     "metadata": {},
     "output_type": "execute_result"
    }
   ],
   "source": [
    "type(age)"
   ]
  },
  {
   "cell_type": "code",
   "execution_count": 46,
   "id": "45b5ce3a-96a8-4414-a881-e0ad9088506d",
   "metadata": {},
   "outputs": [
    {
     "data": {
      "text/plain": [
       "43"
      ]
     },
     "execution_count": 46,
     "metadata": {},
     "output_type": "execute_result"
    }
   ],
   "source": [
    "years_until_retirement = 65 - age\n",
    "years_until_retirement"
   ]
  },
  {
   "cell_type": "code",
   "execution_count": 48,
   "id": "b8543665-0499-4b7e-8b65-c9c21dff4eba",
   "metadata": {},
   "outputs": [
    {
     "name": "stdin",
     "output_type": "stream",
     "text": [
      " 22\n"
     ]
    },
    {
     "data": {
      "text/plain": [
       "'22'"
      ]
     },
     "execution_count": 48,
     "metadata": {},
     "output_type": "execute_result"
    }
   ],
   "source": [
    "input()"
   ]
  },
  {
   "cell_type": "markdown",
   "id": "c46829a5-a79f-41df-8ad1-d702eea63e34",
   "metadata": {},
   "source": [
    "### Opening / Closing Files"
   ]
  },
  {
   "cell_type": "code",
   "execution_count": 50,
   "id": "0d359aef-5656-42d9-9ca8-a5c48787d480",
   "metadata": {},
   "outputs": [
    {
     "data": {
      "text/plain": [
       "<_io.TextIOWrapper name='first.txt' mode='r' encoding='cp1252'>"
      ]
     },
     "execution_count": 50,
     "metadata": {},
     "output_type": "execute_result"
    }
   ],
   "source": [
    "# Open a file:\n",
    "\n",
    "my_file_name = \"first.txt\"\n",
    "\n",
    "file = open( my_file_name  , \"r\"  )\n",
    "file"
   ]
  },
  {
   "cell_type": "markdown",
   "id": "03c82d14-912b-401e-b6be-0e2a1f76b6b8",
   "metadata": {},
   "source": [
    "A note on Binary Mode (rb, rb+, wb, wb+, ab and ab+):\n",
    "- The \"b\" flag indicates binary mode.\n",
    "- Used for non-text files like images (.png or.jpg), videos (.mp4 or .wav), audio (.mp3 or .avi), executables (.exe), compressed files (.zip) or serialized objects (.pickle).\n",
    "- This mode prevents Python from performing text encoding/decoding on these files."
   ]
  },
  {
   "cell_type": "code",
   "execution_count": 53,
   "id": "0cc16591-a64b-472a-9d3f-b87265f94524",
   "metadata": {},
   "outputs": [
    {
     "name": "stdout",
     "output_type": "stream",
     "text": [
      "Filename is: first.txt\n",
      "Is file open: False\n",
      "What mode is the file open with? r\n"
     ]
    }
   ],
   "source": [
    "print(\"Filename is:\",file.name)\n",
    "print(\"Is file open:\", file.closed)\n",
    "print(\"What mode is the file open with?\",file.mode)"
   ]
  },
  {
   "cell_type": "code",
   "execution_count": 55,
   "id": "3eca1af5-2750-4191-9263-afaaf79ee56a",
   "metadata": {},
   "outputs": [
    {
     "name": "stdout",
     "output_type": "stream",
     "text": [
      "Welc\n"
     ]
    }
   ],
   "source": [
    "print(file.read(4))"
   ]
  },
  {
   "cell_type": "code",
   "execution_count": 57,
   "id": "1cab598f-aa69-458b-9b9f-f4df3ae119f3",
   "metadata": {},
   "outputs": [
    {
     "name": "stdout",
     "output_type": "stream",
     "text": [
      "ome \n"
     ]
    }
   ],
   "source": [
    "print(file.read(4))"
   ]
  },
  {
   "cell_type": "code",
   "execution_count": 59,
   "id": "3f430c68-1477-4a6a-bc5f-1884a0f187bf",
   "metadata": {},
   "outputs": [],
   "source": [
    "file.close()"
   ]
  },
  {
   "cell_type": "code",
   "execution_count": 61,
   "id": "2d9777c5-08d7-45f1-af55-bce29291b595",
   "metadata": {},
   "outputs": [
    {
     "ename": "ValueError",
     "evalue": "I/O operation on closed file.",
     "output_type": "error",
     "traceback": [
      "\u001b[1;31m---------------------------------------------------------------------------\u001b[0m",
      "\u001b[1;31mValueError\u001b[0m                                Traceback (most recent call last)",
      "Cell \u001b[1;32mIn[61], line 1\u001b[0m\n\u001b[1;32m----> 1\u001b[0m \u001b[38;5;28mprint\u001b[39m(\u001b[43mfile\u001b[49m\u001b[38;5;241;43m.\u001b[39;49m\u001b[43mread\u001b[49m\u001b[43m(\u001b[49m\u001b[38;5;241;43m4\u001b[39;49m\u001b[43m)\u001b[49m)\n",
      "\u001b[1;31mValueError\u001b[0m: I/O operation on closed file."
     ]
    }
   ],
   "source": [
    "print(file.read(4))"
   ]
  },
  {
   "cell_type": "code",
   "execution_count": 63,
   "id": "fac9af8d-1ec7-4615-80af-51f138b33538",
   "metadata": {},
   "outputs": [
    {
     "name": "stdout",
     "output_type": "stream",
     "text": [
      "[\"Welcome to Robogarden's\\n\", 'Machine Learning Bootcamp!\\n']\n"
     ]
    }
   ],
   "source": [
    "# Let's read line by line instead of character by character\n",
    "my_file_name = \"first.txt\"\n",
    "\n",
    "file = open( my_file_name  , \"r\"  )\n",
    "file_lines = file.readlines()\n",
    "print(file_lines)"
   ]
  },
  {
   "cell_type": "code",
   "execution_count": 65,
   "id": "cf31314c-caac-4cad-8553-5d3378139ccc",
   "metadata": {},
   "outputs": [
    {
     "data": {
      "text/plain": [
       "2"
      ]
     },
     "execution_count": 65,
     "metadata": {},
     "output_type": "execute_result"
    }
   ],
   "source": [
    "len(file_lines)"
   ]
  },
  {
   "cell_type": "code",
   "execution_count": 67,
   "id": "7d5a99df-baf8-46f8-88ff-74b8b61f81ec",
   "metadata": {},
   "outputs": [
    {
     "data": {
      "text/plain": [
       "\"Welcome to Robogarden's\\n\""
      ]
     },
     "execution_count": 67,
     "metadata": {},
     "output_type": "execute_result"
    }
   ],
   "source": [
    "file_lines[0]"
   ]
  },
  {
   "cell_type": "code",
   "execution_count": 69,
   "id": "de1f83c2-3801-4c23-bbef-ed6b008914fb",
   "metadata": {},
   "outputs": [
    {
     "data": {
      "text/plain": [
       "'Machine Learning Bootcamp!\\n'"
      ]
     },
     "execution_count": 69,
     "metadata": {},
     "output_type": "execute_result"
    }
   ],
   "source": [
    "file_lines[1]"
   ]
  },
  {
   "cell_type": "code",
   "execution_count": 71,
   "id": "5880a60b-5de9-4ae4-bf4d-80aabd9755c1",
   "metadata": {},
   "outputs": [
    {
     "name": "stdout",
     "output_type": "stream",
     "text": [
      "Welcome to Robogarden's\n",
      "\n",
      "Machine Learning Bootcamp!\n",
      "\n"
     ]
    }
   ],
   "source": [
    "# Print individiual lines\n",
    "for line in file_lines:\n",
    "    print(line)"
   ]
  },
  {
   "cell_type": "code",
   "execution_count": 73,
   "id": "f9281f97-d312-4f86-b536-aaf3d6bc4ba9",
   "metadata": {},
   "outputs": [
    {
     "data": {
      "text/plain": [
       "51"
      ]
     },
     "execution_count": 73,
     "metadata": {},
     "output_type": "execute_result"
    }
   ],
   "source": [
    "file.tell()"
   ]
  },
  {
   "cell_type": "code",
   "execution_count": 75,
   "id": "cd0174fd-f7c9-40fb-86f8-e03e8519edf3",
   "metadata": {},
   "outputs": [
    {
     "data": {
      "text/plain": [
       "0"
      ]
     },
     "execution_count": 75,
     "metadata": {},
     "output_type": "execute_result"
    }
   ],
   "source": [
    "''' \n",
    "Syntax - file.seek(offset, whence)\n",
    "- 'offset' is the number of bytes to move the cursor\n",
    "- 'whence' is a relative position: \n",
    "0 = beginning of the file\n",
    "1 = move in relation to current position\n",
    "2 = move to the end of the file\n",
    "'''\n",
    "\n",
    "# Reposition the cursor to the beginning of the file\n",
    "# Cursor at the first position.\n",
    "\n",
    "file.seek(0,0)\n",
    "file.tell()"
   ]
  },
  {
   "cell_type": "code",
   "execution_count": 77,
   "id": "5ea8e518-6e94-4801-86f2-d040ce466878",
   "metadata": {},
   "outputs": [
    {
     "name": "stdout",
     "output_type": "stream",
     "text": [
      "first.txt is closed.\n"
     ]
    }
   ],
   "source": [
    "file.close()\n",
    "print(f\"{my_file_name} is closed.\")"
   ]
  },
  {
   "cell_type": "markdown",
   "id": "c7cbe4b8-cd77-48d5-a4e3-d79c91a95302",
   "metadata": {},
   "source": [
    "### Modify a File"
   ]
  },
  {
   "cell_type": "code",
   "execution_count": 80,
   "id": "d543f615-200e-4366-a933-96032018b5a2",
   "metadata": {},
   "outputs": [
    {
     "name": "stdout",
     "output_type": "stream",
     "text": [
      "second.txt is open.\n"
     ]
    }
   ],
   "source": [
    "my_new_file_name = \"second.txt\"\n",
    "file = open( my_new_file_name  , \"a\"  )\n",
    "print(f\"{my_new_file_name} is open.\")"
   ]
  },
  {
   "cell_type": "code",
   "execution_count": 82,
   "id": "8705d30d-b505-4ba1-9285-ab55086c748c",
   "metadata": {},
   "outputs": [
    {
     "name": "stdout",
     "output_type": "stream",
     "text": [
      "second.txt is appended.\n"
     ]
    }
   ],
   "source": [
    "file.write(\"This is our third week!\" + \"\\n\")\n",
    "print(f\"{my_new_file_name} is appended.\")"
   ]
  },
  {
   "cell_type": "code",
   "execution_count": 84,
   "id": "628dd2f1-6ccc-4c9c-99c9-41fecd28a5c4",
   "metadata": {},
   "outputs": [
    {
     "name": "stdout",
     "output_type": "stream",
     "text": [
      "second.txt is closed.\n"
     ]
    }
   ],
   "source": [
    "file.close()\n",
    "print(f\"{my_new_file_name} is closed.\")"
   ]
  },
  {
   "cell_type": "code",
   "execution_count": 86,
   "id": "03d6b9f0-d0f6-4a2e-9b75-af186cfc2b4c",
   "metadata": {},
   "outputs": [
    {
     "name": "stdout",
     "output_type": "stream",
     "text": [
      "View the 'append' or 'a' opened version:\n",
      "\n",
      "Welcome to Robogarden's\n",
      "\n",
      "Machine Learning Bootcamp!\n",
      "\n",
      "This is our third week!\n",
      "\n"
     ]
    }
   ],
   "source": [
    "#View the file\n",
    "file = open(my_new_file_name, \"r\")\n",
    "file_lines = file.readlines()\n",
    "print(\"View the 'append' or 'a' opened version:\\n\")\n",
    "for line in file_lines:\n",
    "    print(line)\n",
    "\n",
    "file.close()    "
   ]
  },
  {
   "cell_type": "code",
   "execution_count": 88,
   "id": "1a81185e-5cb8-407b-8ad5-1efe9a55b7ed",
   "metadata": {},
   "outputs": [],
   "source": [
    "file.close()"
   ]
  },
  {
   "cell_type": "code",
   "execution_count": 6,
   "id": "3950128a-05bd-415c-82cc-1fc5f9e4ecb0",
   "metadata": {},
   "outputs": [
    {
     "name": "stdout",
     "output_type": "stream",
     "text": [
      "Text written to second.txt.\n",
      "second.txt is closed.\n"
     ]
    }
   ],
   "source": [
    "# Try reading and writing to the file\n",
    "# i.e. overwritng the contents! This will create a new file if a file with\n",
    "# the current name does not exist\n",
    "my_file_name = \"second.txt\"\n",
    "file = open(my_file_name, \"r+\")\n",
    "\n",
    "file.write(\"I'm writing over this existing file one byte at a time!!\"+ \"\\n\") # Begin changing the text of the existing file.\n",
    "print(f\"Text written to {my_file_name}.\")\n",
    "\n",
    "file.close()\n",
    "print(f\"{my_file_name} is closed.\")\n"
   ]
  },
  {
   "cell_type": "code",
   "execution_count": 8,
   "id": "af43016c-2a83-438a-8b26-e58f9404efde",
   "metadata": {},
   "outputs": [
    {
     "name": "stdout",
     "output_type": "stream",
     "text": [
      "I'm writing over this existing file one byte at a time!!\n",
      "\n",
      "is our third week!\n",
      "\n"
     ]
    }
   ],
   "source": [
    "#View the file\n",
    "file = open(my_file_name, \"r\")\n",
    "file_lines = file.readlines()\n",
    "for line in file_lines:\n",
    "    print(line)\n",
    "file.close()  "
   ]
  },
  {
   "cell_type": "markdown",
   "id": "ee989a67-e55e-4dc0-9bbe-82b2e47788d4",
   "metadata": {},
   "source": [
    "#### Demo of creating a new file with some content, renaming it and then deleting it using the OS library:"
   ]
  },
  {
   "cell_type": "code",
   "execution_count": 5,
   "id": "c72dd11c-88f3-42a4-966c-8f1d8d0b35ff",
   "metadata": {},
   "outputs": [],
   "source": [
    "# Use \"w+\" mode to create and add content to a new file:\n",
    "\n",
    "file = open(\"first_module.txt\", \"w+\")\n",
    "\n",
    "# Begin changing the text of the existing file.\n",
    "file.write(\"def square(x):\\n\\treturn x **2\"+ \"\\n\")\n",
    "file.close()\n",
    "\n",
    "import os\n",
    "\n",
    "os.rename(\"first_module.txt\", \"third_module.txt\")"
   ]
  },
  {
   "cell_type": "code",
   "execution_count": 9,
   "id": "9a039958-82c9-4fb2-8b95-0ed6e391894c",
   "metadata": {},
   "outputs": [],
   "source": [
    "# Remove or 'delete' the newly created file as we no longer need it\n",
    "\n",
    "os.remove(\"third_module.txt\")"
   ]
  },
  {
   "cell_type": "code",
   "execution_count": 13,
   "id": "dc87efc3-fea4-4e10-a222-4dc4ed39d45b",
   "metadata": {},
   "outputs": [
    {
     "name": "stdout",
     "output_type": "stream",
     "text": [
      "C:\\Users\\nicol\\OneDrive\\Documents\\1_RoboGarden\\Instruction\\Bootcamp\\Week 1\\Oct 2025\n"
     ]
    }
   ],
   "source": [
    "'''OS has other methods like making new directories, \n",
    "and checking (returning) or switching working directories:'''\n",
    "\n",
    "# Let's check the current working directory where this Python file is \n",
    "# running and any files/modules would be searched for\n",
    "\n",
    "print(os.getcwd())"
   ]
  },
  {
   "cell_type": "markdown",
   "id": "dbf969c1-7f8a-44f0-bd02-38586f353273",
   "metadata": {},
   "source": [
    "### File Handling Exceptions"
   ]
  },
  {
   "cell_type": "code",
   "execution_count": null,
   "id": "45c0aabb-6d4c-434b-93ff-d57c42791115",
   "metadata": {},
   "outputs": [],
   "source": [
    "my_file_name = \"firsttttt.txt\"\n",
    "\n",
    "try:\n",
    "    file = open(my_file_name, \"r\")\n",
    "    file_lines = file.readlines()  \n",
    "    \n",
    "    print(\"Length of file lines is:\", len(file_lines))\n",
    "\n",
    "    for line in file_lines:\n",
    "        print(\"The file line is:\", line.strip())  # Use strip to remove leading/trailing whitespace\n",
    "\n",
    "    file.close()\n",
    "    \n",
    "    print(\"File closed.\")\n",
    "\n",
    "except FileNotFoundError:\n",
    "    print(f\"File '{my_file_name}' not found.\")"
   ]
  },
  {
   "cell_type": "markdown",
   "id": "1cda9bed-33d9-4f2e-b098-b10d85bae55a",
   "metadata": {},
   "source": [
    "### Open Data with a Library"
   ]
  },
  {
   "cell_type": "code",
   "execution_count": 98,
   "id": "e4d5e84f-3c18-402a-ac1f-24f3617708c9",
   "metadata": {},
   "outputs": [],
   "source": [
    "# Load available datasets from a library\n",
    "\n",
    "from sklearn.datasets import load_digits\n",
    "dataset = load_digits()"
   ]
  },
  {
   "cell_type": "code",
   "execution_count": 100,
   "id": "8f34045c-37c2-465a-b2aa-5d5c043dec8d",
   "metadata": {
    "scrolled": true
   },
   "outputs": [
    {
     "data": {
      "text/plain": [
       "{'data': array([[ 0.,  0.,  5., ...,  0.,  0.,  0.],\n",
       "        [ 0.,  0.,  0., ..., 10.,  0.,  0.],\n",
       "        [ 0.,  0.,  0., ..., 16.,  9.,  0.],\n",
       "        ...,\n",
       "        [ 0.,  0.,  1., ...,  6.,  0.,  0.],\n",
       "        [ 0.,  0.,  2., ..., 12.,  0.,  0.],\n",
       "        [ 0.,  0., 10., ..., 12.,  1.,  0.]]),\n",
       " 'target': array([0, 1, 2, ..., 8, 9, 8]),\n",
       " 'frame': None,\n",
       " 'feature_names': ['pixel_0_0',\n",
       "  'pixel_0_1',\n",
       "  'pixel_0_2',\n",
       "  'pixel_0_3',\n",
       "  'pixel_0_4',\n",
       "  'pixel_0_5',\n",
       "  'pixel_0_6',\n",
       "  'pixel_0_7',\n",
       "  'pixel_1_0',\n",
       "  'pixel_1_1',\n",
       "  'pixel_1_2',\n",
       "  'pixel_1_3',\n",
       "  'pixel_1_4',\n",
       "  'pixel_1_5',\n",
       "  'pixel_1_6',\n",
       "  'pixel_1_7',\n",
       "  'pixel_2_0',\n",
       "  'pixel_2_1',\n",
       "  'pixel_2_2',\n",
       "  'pixel_2_3',\n",
       "  'pixel_2_4',\n",
       "  'pixel_2_5',\n",
       "  'pixel_2_6',\n",
       "  'pixel_2_7',\n",
       "  'pixel_3_0',\n",
       "  'pixel_3_1',\n",
       "  'pixel_3_2',\n",
       "  'pixel_3_3',\n",
       "  'pixel_3_4',\n",
       "  'pixel_3_5',\n",
       "  'pixel_3_6',\n",
       "  'pixel_3_7',\n",
       "  'pixel_4_0',\n",
       "  'pixel_4_1',\n",
       "  'pixel_4_2',\n",
       "  'pixel_4_3',\n",
       "  'pixel_4_4',\n",
       "  'pixel_4_5',\n",
       "  'pixel_4_6',\n",
       "  'pixel_4_7',\n",
       "  'pixel_5_0',\n",
       "  'pixel_5_1',\n",
       "  'pixel_5_2',\n",
       "  'pixel_5_3',\n",
       "  'pixel_5_4',\n",
       "  'pixel_5_5',\n",
       "  'pixel_5_6',\n",
       "  'pixel_5_7',\n",
       "  'pixel_6_0',\n",
       "  'pixel_6_1',\n",
       "  'pixel_6_2',\n",
       "  'pixel_6_3',\n",
       "  'pixel_6_4',\n",
       "  'pixel_6_5',\n",
       "  'pixel_6_6',\n",
       "  'pixel_6_7',\n",
       "  'pixel_7_0',\n",
       "  'pixel_7_1',\n",
       "  'pixel_7_2',\n",
       "  'pixel_7_3',\n",
       "  'pixel_7_4',\n",
       "  'pixel_7_5',\n",
       "  'pixel_7_6',\n",
       "  'pixel_7_7'],\n",
       " 'target_names': array([0, 1, 2, 3, 4, 5, 6, 7, 8, 9]),\n",
       " 'images': array([[[ 0.,  0.,  5., ...,  1.,  0.,  0.],\n",
       "         [ 0.,  0., 13., ..., 15.,  5.,  0.],\n",
       "         [ 0.,  3., 15., ..., 11.,  8.,  0.],\n",
       "         ...,\n",
       "         [ 0.,  4., 11., ..., 12.,  7.,  0.],\n",
       "         [ 0.,  2., 14., ..., 12.,  0.,  0.],\n",
       "         [ 0.,  0.,  6., ...,  0.,  0.,  0.]],\n",
       " \n",
       "        [[ 0.,  0.,  0., ...,  5.,  0.,  0.],\n",
       "         [ 0.,  0.,  0., ...,  9.,  0.,  0.],\n",
       "         [ 0.,  0.,  3., ...,  6.,  0.,  0.],\n",
       "         ...,\n",
       "         [ 0.,  0.,  1., ...,  6.,  0.,  0.],\n",
       "         [ 0.,  0.,  1., ...,  6.,  0.,  0.],\n",
       "         [ 0.,  0.,  0., ..., 10.,  0.,  0.]],\n",
       " \n",
       "        [[ 0.,  0.,  0., ..., 12.,  0.,  0.],\n",
       "         [ 0.,  0.,  3., ..., 14.,  0.,  0.],\n",
       "         [ 0.,  0.,  8., ..., 16.,  0.,  0.],\n",
       "         ...,\n",
       "         [ 0.,  9., 16., ...,  0.,  0.,  0.],\n",
       "         [ 0.,  3., 13., ..., 11.,  5.,  0.],\n",
       "         [ 0.,  0.,  0., ..., 16.,  9.,  0.]],\n",
       " \n",
       "        ...,\n",
       " \n",
       "        [[ 0.,  0.,  1., ...,  1.,  0.,  0.],\n",
       "         [ 0.,  0., 13., ...,  2.,  1.,  0.],\n",
       "         [ 0.,  0., 16., ..., 16.,  5.,  0.],\n",
       "         ...,\n",
       "         [ 0.,  0., 16., ..., 15.,  0.,  0.],\n",
       "         [ 0.,  0., 15., ..., 16.,  0.,  0.],\n",
       "         [ 0.,  0.,  2., ...,  6.,  0.,  0.]],\n",
       " \n",
       "        [[ 0.,  0.,  2., ...,  0.,  0.,  0.],\n",
       "         [ 0.,  0., 14., ..., 15.,  1.,  0.],\n",
       "         [ 0.,  4., 16., ..., 16.,  7.,  0.],\n",
       "         ...,\n",
       "         [ 0.,  0.,  0., ..., 16.,  2.,  0.],\n",
       "         [ 0.,  0.,  4., ..., 16.,  2.,  0.],\n",
       "         [ 0.,  0.,  5., ..., 12.,  0.,  0.]],\n",
       " \n",
       "        [[ 0.,  0., 10., ...,  1.,  0.,  0.],\n",
       "         [ 0.,  2., 16., ...,  1.,  0.,  0.],\n",
       "         [ 0.,  0., 15., ..., 15.,  0.,  0.],\n",
       "         ...,\n",
       "         [ 0.,  4., 16., ..., 16.,  6.,  0.],\n",
       "         [ 0.,  8., 16., ..., 16.,  8.,  0.],\n",
       "         [ 0.,  1.,  8., ..., 12.,  1.,  0.]]]),\n",
       " 'DESCR': \".. _digits_dataset:\\n\\nOptical recognition of handwritten digits dataset\\n--------------------------------------------------\\n\\n**Data Set Characteristics:**\\n\\n    :Number of Instances: 5620\\n    :Number of Attributes: 64\\n    :Attribute Information: 8x8 image of integer pixels in the range 0..16.\\n    :Missing Attribute Values: None\\n    :Creator: E. Alpaydin (alpaydin '@' boun.edu.tr)\\n    :Date: July; 1998\\n\\nThis is a copy of the test set of the UCI ML hand-written digits datasets\\nhttps://archive.ics.uci.edu/ml/datasets/Optical+Recognition+of+Handwritten+Digits\\n\\nThe data set contains images of hand-written digits: 10 classes where\\neach class refers to a digit.\\n\\nPreprocessing programs made available by NIST were used to extract\\nnormalized bitmaps of handwritten digits from a preprinted form. From a\\ntotal of 43 people, 30 contributed to the training set and different 13\\nto the test set. 32x32 bitmaps are divided into nonoverlapping blocks of\\n4x4 and the number of on pixels are counted in each block. This generates\\nan input matrix of 8x8 where each element is an integer in the range\\n0..16. This reduces dimensionality and gives invariance to small\\ndistortions.\\n\\nFor info on NIST preprocessing routines, see M. D. Garris, J. L. Blue, G.\\nT. Candela, D. L. Dimmick, J. Geist, P. J. Grother, S. A. Janet, and C.\\nL. Wilson, NIST Form-Based Handprint Recognition System, NISTIR 5469,\\n1994.\\n\\n.. topic:: References\\n\\n  - C. Kaynak (1995) Methods of Combining Multiple Classifiers and Their\\n    Applications to Handwritten Digit Recognition, MSc Thesis, Institute of\\n    Graduate Studies in Science and Engineering, Bogazici University.\\n  - E. Alpaydin, C. Kaynak (1998) Cascading Classifiers, Kybernetika.\\n  - Ken Tang and Ponnuthurai N. Suganthan and Xi Yao and A. Kai Qin.\\n    Linear dimensionalityreduction using relevance weighted LDA. School of\\n    Electrical and Electronic Engineering Nanyang Technological University.\\n    2005.\\n  - Claudio Gentile. A New Approximate Maximal Margin Classification\\n    Algorithm. NIPS. 2000.\"}"
      ]
     },
     "execution_count": 100,
     "metadata": {},
     "output_type": "execute_result"
    }
   ],
   "source": [
    "dataset"
   ]
  },
  {
   "cell_type": "code",
   "execution_count": 102,
   "id": "889a9395-2db2-45c6-bf96-e31e51f51114",
   "metadata": {},
   "outputs": [],
   "source": [
    "#Define the images and the output label as x and y respectively\n",
    "(x,y) = load_digits(return_X_y=True)"
   ]
  },
  {
   "cell_type": "code",
   "execution_count": 104,
   "id": "61e03e0e-ae24-44af-8fb1-48d2e7d0b61d",
   "metadata": {},
   "outputs": [
    {
     "data": {
      "text/plain": [
       "<matplotlib.image.AxesImage at 0x1438636b9a0>"
      ]
     },
     "execution_count": 104,
     "metadata": {},
     "output_type": "execute_result"
    },
    {
     "data": {
      "image/png": "[encoded data removed]",
      "text/plain": [
       "<Figure size 640x480 with 1 Axes>"
      ]
     },
     "metadata": {},
     "output_type": "display_data"
    }
   ],
   "source": [
    "import matplotlib.pyplot as plt\n",
    "plt.imshow(dataset.images[200])"
   ]
  },
  {
   "cell_type": "markdown",
   "id": "3e311b8d-60b6-4ede-94eb-fa10bfaa939c",
   "metadata": {},
   "source": [
    "### Open custom data with a Library - pandas\n",
    "\n",
    "https://pandas.pydata.org/docs/reference/api/pandas.read_csv.html"
   ]
  },
  {
   "cell_type": "code",
   "execution_count": 1,
   "id": "618739f6-44b9-4647-b6f2-aa0eddef7af6",
   "metadata": {},
   "outputs": [
    {
     "data": {
      "text/html": [
       "<div>\n",
       "<style scoped>\n",
       "    .dataframe tbody tr th:only-of-type {\n",
       "        vertical-align: middle;\n",
       "    }\n",
       "\n",
       "    .dataframe tbody tr th {\n",
       "        vertical-align: top;\n",
       "    }\n",
       "\n",
       "    .dataframe thead th {\n",
       "        text-align: right;\n",
       "    }\n",
       "</style>\n",
       "<table border=\"1\" class=\"dataframe\">\n",
       "  <thead>\n",
       "    <tr style=\"text-align: right;\">\n",
       "      <th></th>\n",
       "      <th>high_GPA</th>\n",
       "      <th>univ_GPA</th>\n",
       "    </tr>\n",
       "  </thead>\n",
       "  <tbody>\n",
       "    <tr>\n",
       "      <th>0</th>\n",
       "      <td>3.45</td>\n",
       "      <td>3.52</td>\n",
       "    </tr>\n",
       "    <tr>\n",
       "      <th>1</th>\n",
       "      <td>2.78</td>\n",
       "      <td>2.91</td>\n",
       "    </tr>\n",
       "    <tr>\n",
       "      <th>2</th>\n",
       "      <td>2.52</td>\n",
       "      <td>2.40</td>\n",
       "    </tr>\n",
       "    <tr>\n",
       "      <th>3</th>\n",
       "      <td>3.67</td>\n",
       "      <td>3.47</td>\n",
       "    </tr>\n",
       "    <tr>\n",
       "      <th>4</th>\n",
       "      <td>3.24</td>\n",
       "      <td>3.47</td>\n",
       "    </tr>\n",
       "    <tr>\n",
       "      <th>...</th>\n",
       "      <td>...</td>\n",
       "      <td>...</td>\n",
       "    </tr>\n",
       "    <tr>\n",
       "      <th>100</th>\n",
       "      <td>3.76</td>\n",
       "      <td>3.64</td>\n",
       "    </tr>\n",
       "    <tr>\n",
       "      <th>101</th>\n",
       "      <td>3.49</td>\n",
       "      <td>3.42</td>\n",
       "    </tr>\n",
       "    <tr>\n",
       "      <th>102</th>\n",
       "      <td>3.07</td>\n",
       "      <td>3.25</td>\n",
       "    </tr>\n",
       "    <tr>\n",
       "      <th>103</th>\n",
       "      <td>2.19</td>\n",
       "      <td>2.76</td>\n",
       "    </tr>\n",
       "    <tr>\n",
       "      <th>104</th>\n",
       "      <td>3.46</td>\n",
       "      <td>3.41</td>\n",
       "    </tr>\n",
       "  </tbody>\n",
       "</table>\n",
       "<p>105 rows × 2 columns</p>\n",
       "</div>"
      ],
      "text/plain": [
       "     high_GPA  univ_GPA\n",
       "0        3.45      3.52\n",
       "1        2.78      2.91\n",
       "2        2.52      2.40\n",
       "3        3.67      3.47\n",
       "4        3.24      3.47\n",
       "..        ...       ...\n",
       "100      3.76      3.64\n",
       "101      3.49      3.42\n",
       "102      3.07      3.25\n",
       "103      2.19      2.76\n",
       "104      3.46      3.41\n",
       "\n",
       "[105 rows x 2 columns]"
      ]
     },
     "execution_count": 1,
     "metadata": {},
     "output_type": "execute_result"
    }
   ],
   "source": [
    "import pandas as pd\n",
    "df = pd.read_csv(\"gpa.csv\")\n",
    "df"
   ]
  }
 ],
 "metadata": {
  "kernelspec": {
   "display_name": "Python [conda env:base] *",
   "language": "python",
   "name": "conda-base-py"
  },
  "language_info": {
   "codemirror_mode": {
    "name": "ipython",
    "version": 3
   },
   "file_extension": ".py",
   "mimetype": "text/x-python",
   "name": "python",
   "nbconvert_exporter": "python",
   "pygments_lexer": "ipython3",
   "version": "3.9.17"
  }
 },
 "nbformat": 4,
 "nbformat_minor": 5
}
