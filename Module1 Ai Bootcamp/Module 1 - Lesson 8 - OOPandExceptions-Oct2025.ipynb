{
 "cells": [
  {
   "cell_type": "markdown",
   "id": "d5be800c",
   "metadata": {},
   "source": [
    "<h1><center> Module 1 - Lesson 8 </center></h1>\n",
    "\n",
    "#### Object Oriented Programming and Exceptions: \n",
    "\n",
    "---\n",
    "- Identify Object Oriented Programming (OOP) concepts\n",
    "- Create and destroy classes and objects\n",
    "- Use class inheritance and overriding methods\n",
    "- Use data hiding in classes\n",
    "- Use built-in class attributes"
   ]
  },
  {
   "cell_type": "markdown",
   "id": "3837dce4",
   "metadata": {},
   "source": [
    "#### Create an Object using a Class definition"
   ]
  },
  {
   "cell_type": "code",
   "execution_count": 27,
   "id": "1b0fba5a",
   "metadata": {},
   "outputs": [],
   "source": [
    "class Car:\n",
    "    def __init__(self, make, model):\n",
    "        self.make = make\n",
    "        self.model = model\n",
    "        \n",
    "    def display_info(self):    \n",
    "        print(f\"This is a {self.make} {self.model}.\")"
   ]
  },
  {
   "cell_type": "code",
   "execution_count": 29,
   "id": "7e90d6d7",
   "metadata": {},
   "outputs": [],
   "source": [
    "car1 = Car(\"Dodge\", \"Caravan\")"
   ]
  },
  {
   "cell_type": "code",
   "execution_count": 31,
   "id": "5cf6eb85-178e-4599-9591-8c98fc1d2e0f",
   "metadata": {},
   "outputs": [
    {
     "name": "stdout",
     "output_type": "stream",
     "text": [
      "This is a Dodge Caravan.\n"
     ]
    }
   ],
   "source": [
    "car1.display_info()"
   ]
  },
  {
   "cell_type": "code",
   "execution_count": 25,
   "id": "308bbc03",
   "metadata": {},
   "outputs": [
    {
     "name": "stdout",
     "output_type": "stream",
     "text": [
      "{'make': 'Dodge', 'model': 'Caravan'}\n"
     ]
    }
   ],
   "source": [
    "print(car1.__dict__)"
   ]
  },
  {
   "cell_type": "code",
   "execution_count": 35,
   "id": "2d0b9922-fb0a-4c5e-820d-2a6ea8cdb8f8",
   "metadata": {},
   "outputs": [
    {
     "name": "stdout",
     "output_type": "stream",
     "text": [
      "This is a Ford F150.\n"
     ]
    }
   ],
   "source": [
    "car2 = Car(\"Ford\", \"F150\")\n",
    "#print(car2)\n",
    "car2.display_info()"
   ]
  },
  {
   "cell_type": "code",
   "execution_count": 37,
   "id": "ff762269-3c29-41e8-87d8-b23a03710c4a",
   "metadata": {},
   "outputs": [],
   "source": [
    "del(car2)"
   ]
  },
  {
   "cell_type": "code",
   "execution_count": 39,
   "id": "435ce124-a688-40f9-9590-610c09cf2929",
   "metadata": {},
   "outputs": [
    {
     "ename": "NameError",
     "evalue": "name 'car2' is not defined",
     "output_type": "error",
     "traceback": [
      "\u001b[1;31m---------------------------------------------------------------------------\u001b[0m",
      "\u001b[1;31mNameError\u001b[0m                                 Traceback (most recent call last)",
      "Cell \u001b[1;32mIn[39], line 1\u001b[0m\n\u001b[1;32m----> 1\u001b[0m \u001b[43mcar2\u001b[49m\u001b[38;5;241m.\u001b[39mdisplay_info()\n",
      "\u001b[1;31mNameError\u001b[0m: name 'car2' is not defined"
     ]
    }
   ],
   "source": [
    "car2.display_info()"
   ]
  },
  {
   "cell_type": "code",
   "execution_count": 41,
   "id": "0a6ba77d-d018-4d7b-bed0-7ccfe3090b5d",
   "metadata": {},
   "outputs": [
    {
     "name": "stdout",
     "output_type": "stream",
     "text": [
      "This is a Dodge Caravan.\n"
     ]
    }
   ],
   "source": [
    "car1.display_info()"
   ]
  },
  {
   "cell_type": "code",
   "execution_count": 43,
   "id": "39a7a1c8-5e61-48f1-8c2b-b6fc14259097",
   "metadata": {},
   "outputs": [],
   "source": [
    "del(car1)"
   ]
  },
  {
   "cell_type": "markdown",
   "id": "b25c55e5",
   "metadata": {},
   "source": [
    "#### Creating Subclasses\n",
    "\n",
    "The ElectricCar is a child of the Car parent class and inherits the parent's attributes and functions"
   ]
  },
  {
   "cell_type": "code",
   "execution_count": 49,
   "id": "169b0419",
   "metadata": {},
   "outputs": [],
   "source": [
    "class ElectricCar(Car):\n",
    "    \n",
    "    def __init__(self, make, model, battery_capacity):\n",
    "        super().__init__(make, model)\n",
    "        self.battery_capacity = battery_capacity\n",
    "\n",
    "    def display_battery(self):\n",
    "        print(f\"This electric car has a {self.battery_capacity} kWh battery.\")"
   ]
  },
  {
   "cell_type": "code",
   "execution_count": 53,
   "id": "1d9273df",
   "metadata": {},
   "outputs": [
    {
     "name": "stdout",
     "output_type": "stream",
     "text": [
      "This is a Tesla Model S.\n",
      "This electric car has a 50 kWh battery.\n"
     ]
    }
   ],
   "source": [
    "electric_car = ElectricCar(\"Tesla\", \"Model S\", 50)\n",
    "electric_car.display_info()\n",
    "electric_car.display_battery()"
   ]
  },
  {
   "cell_type": "markdown",
   "id": "703492b5",
   "metadata": {},
   "source": [
    "### Protected Classes\n",
    "\n",
    "The 'protected' attribute is indicated by a single underscore prefix e.g. _Colour <br>\n",
    "This is a 'convention' among Python programmers and indicates the variable should only be accessed with the class (and cannot be accessed by sub-classes) and should not be modified. \n",
    "<br><br>\n",
    "The Restricted double underscore (e.g. __MSRP) has the added functionality of automatically accepting the class name before the attribute to avoid naming conflicts among subclasses. It also signals to programmers to avoid changing the values and avoid using it outside the class."
   ]
  },
  {
   "cell_type": "code",
   "execution_count": 55,
   "id": "73e1296f",
   "metadata": {},
   "outputs": [],
   "source": [
    "#Protected attributes\n",
    "class Car_pricing:\n",
    "    def __init__(self, make, model, MSRP):\n",
    "        self.make = make\n",
    "        self.model = model\n",
    "        self.__MSRP = MSRP\n",
    "        \n",
    "    def get_msrp(self):    \n",
    "        return self.__MSRP"
   ]
  },
  {
   "cell_type": "code",
   "execution_count": 57,
   "id": "798126a4",
   "metadata": {},
   "outputs": [
    {
     "name": "stdout",
     "output_type": "stream",
     "text": [
      "New car MSRP: 90000\n"
     ]
    }
   ],
   "source": [
    "my_car = Car_pricing(\"Tesla\", \"Model S\", 90000)\n",
    "\n",
    "print(\"New car MSRP:\", my_car.get_msrp())"
   ]
  },
  {
   "cell_type": "code",
   "execution_count": 59,
   "id": "3cd57bb0",
   "metadata": {},
   "outputs": [],
   "source": [
    "my_car.__MSRP = 60000"
   ]
  },
  {
   "cell_type": "code",
   "execution_count": 61,
   "id": "4c536c19",
   "metadata": {},
   "outputs": [
    {
     "name": "stdout",
     "output_type": "stream",
     "text": [
      "New car MSRP: 90000\n"
     ]
    }
   ],
   "source": [
    "print(\"New car MSRP:\", my_car.get_msrp())"
   ]
  },
  {
   "cell_type": "markdown",
   "id": "1ae196f1-acee-415f-815a-6ab6120b41fe",
   "metadata": {},
   "source": [
    "### Class Attributes\n",
    "Essentially default values for a class"
   ]
  },
  {
   "cell_type": "code",
   "execution_count": 63,
   "id": "c690bc88",
   "metadata": {},
   "outputs": [],
   "source": [
    "# Define the Car class, with a new Class Attribute \n",
    "\n",
    "class Car:\n",
    "    country_of_origin = \"USA\"\n",
    "    \n",
    "    def __init__(self, make, model):\n",
    "        self.make = make\n",
    "        self.model = model\n",
    "        \n",
    "    def display_info(self):    \n",
    "        print(f\"This is a {self.make} {self.model} made in {self.country_of_origin}.\")"
   ]
  },
  {
   "cell_type": "code",
   "execution_count": 65,
   "id": "d95d3ac3",
   "metadata": {},
   "outputs": [],
   "source": [
    "#attributes are not accessible outside the class method\n",
    "my_car = Car(\"Tesla\", \"Model S\")"
   ]
  },
  {
   "cell_type": "code",
   "execution_count": 67,
   "id": "9724f085-c0a8-4388-b5a5-dd91444cc528",
   "metadata": {},
   "outputs": [
    {
     "name": "stdout",
     "output_type": "stream",
     "text": [
      "This is a Tesla Model S made in USA.\n"
     ]
    }
   ],
   "source": [
    "my_car.display_info()"
   ]
  },
  {
   "cell_type": "markdown",
   "id": "952f3c95",
   "metadata": {},
   "source": [
    "## Exceptions"
   ]
  },
  {
   "cell_type": "markdown",
   "id": "27f91066",
   "metadata": {},
   "source": [
    "### Assertions \n",
    "Assertions are validation mechanisms. If the condition expression(s) are False, the exception is triggered. "
   ]
  },
  {
   "cell_type": "code",
   "execution_count": 179,
   "id": "802ff053",
   "metadata": {},
   "outputs": [],
   "source": [
    "def conv_grade_to_percentage(grades_earned, total_grades_available):\n",
    "    assert (grades_earned >= 0 and total_grades_available > 0 ), \"You have entered in invalid grade or course mark.\" \n",
    "    return (grades_earned/total_grades_available)*100"
   ]
  },
  {
   "cell_type": "code",
   "execution_count": 181,
   "id": "16001e8a",
   "metadata": {},
   "outputs": [
    {
     "name": "stdin",
     "output_type": "stream",
     "text": [
      "Enter student grades earned: -80\n",
      "Enter total grade for course: 100\n"
     ]
    }
   ],
   "source": [
    "grades_earned = float(input(\"Enter student grades earned:\"))\n",
    "total_grades_available = float(input(\"Enter total grade for course:\"))"
   ]
  },
  {
   "cell_type": "code",
   "execution_count": 183,
   "id": "3d26c694",
   "metadata": {},
   "outputs": [
    {
     "ename": "AssertionError",
     "evalue": "You have entered in invalid grade or course mark.",
     "output_type": "error",
     "traceback": [
      "\u001b[1;31m---------------------------------------------------------------------------\u001b[0m",
      "\u001b[1;31mAssertionError\u001b[0m                            Traceback (most recent call last)",
      "Cell \u001b[1;32mIn[183], line 1\u001b[0m\n\u001b[1;32m----> 1\u001b[0m \u001b[38;5;28mprint\u001b[39m(\u001b[38;5;124m\"\u001b[39m\u001b[38;5;124mGrade earned in course:\u001b[39m\u001b[38;5;124m\"\u001b[39m, \u001b[43mconv_grade_to_percentage\u001b[49m\u001b[43m(\u001b[49m\u001b[43mgrades_earned\u001b[49m\u001b[43m,\u001b[49m\u001b[43m \u001b[49m\u001b[43mtotal_grades_available\u001b[49m\u001b[43m)\u001b[49m )\n",
      "Cell \u001b[1;32mIn[179], line 2\u001b[0m, in \u001b[0;36mconv_grade_to_percentage\u001b[1;34m(grades_earned, total_grades_available)\u001b[0m\n\u001b[0;32m      1\u001b[0m \u001b[38;5;28;01mdef\u001b[39;00m\u001b[38;5;250m \u001b[39m\u001b[38;5;21mconv_grade_to_percentage\u001b[39m(grades_earned, total_grades_available):\n\u001b[1;32m----> 2\u001b[0m     \u001b[38;5;28;01massert\u001b[39;00m (grades_earned \u001b[38;5;241m>\u001b[39m\u001b[38;5;241m=\u001b[39m \u001b[38;5;241m0\u001b[39m \u001b[38;5;129;01mand\u001b[39;00m total_grades_available \u001b[38;5;241m>\u001b[39m \u001b[38;5;241m0\u001b[39m ), \u001b[38;5;124m\"\u001b[39m\u001b[38;5;124mYou have entered in invalid grade or course mark.\u001b[39m\u001b[38;5;124m\"\u001b[39m \n\u001b[0;32m      3\u001b[0m     \u001b[38;5;28;01mreturn\u001b[39;00m (grades_earned\u001b[38;5;241m/\u001b[39mtotal_grades_available)\u001b[38;5;241m*\u001b[39m\u001b[38;5;241m100\u001b[39m\n",
      "\u001b[1;31mAssertionError\u001b[0m: You have entered in invalid grade or course mark."
     ]
    }
   ],
   "source": [
    "print(\"Grade earned in course:\", conv_grade_to_percentage(grades_earned, total_grades_available) )  "
   ]
  },
  {
   "cell_type": "markdown",
   "id": "b41082d0",
   "metadata": {},
   "source": [
    "### Exceptions - try: except"
   ]
  },
  {
   "cell_type": "code",
   "execution_count": 185,
   "id": "b552f368",
   "metadata": {},
   "outputs": [
    {
     "name": "stdout",
     "output_type": "stream",
     "text": [
      "length of lines is: 2\n",
      "File closed.\n",
      "File successfully read.\n"
     ]
    }
   ],
   "source": [
    "# Use an existing file:\n",
    "\n",
    "my_file_name = \"first.txt\"\n",
    "\n",
    "try:\n",
    "    file = open(my_file_name, \"r\")\n",
    "    file_lines = file.readlines()\n",
    "    \n",
    "    print(\"length of lines is:\", len(file_lines))\n",
    "    file.close()\n",
    "    print(\"File closed.\")\n",
    "\n",
    "except FileNotFoundError:\n",
    "    print(f\"File {my_file_name} not found in current directory.\")\n",
    "else:\n",
    "    print(\"File successfully read.\")"
   ]
  },
  {
   "cell_type": "code",
   "execution_count": 173,
   "id": "3476226c-ce7c-4d0b-9744-67e333e28180",
   "metadata": {},
   "outputs": [
    {
     "ename": "FileNotFoundError",
     "evalue": "[Errno 2] No such file or directory: 'firsttttt.txt'",
     "output_type": "error",
     "traceback": [
      "\u001b[1;31m---------------------------------------------------------------------------\u001b[0m",
      "\u001b[1;31mFileNotFoundError\u001b[0m                         Traceback (most recent call last)",
      "Cell \u001b[1;32mIn[173], line 2\u001b[0m\n\u001b[0;32m      1\u001b[0m my_file_name \u001b[38;5;241m=\u001b[39m \u001b[38;5;124m\"\u001b[39m\u001b[38;5;124mfirsttttt.txt\u001b[39m\u001b[38;5;124m\"\u001b[39m\n\u001b[1;32m----> 2\u001b[0m \u001b[38;5;28;43mopen\u001b[39;49m\u001b[43m(\u001b[49m\u001b[43mmy_file_name\u001b[49m\u001b[43m,\u001b[49m\u001b[43m \u001b[49m\u001b[38;5;124;43m\"\u001b[39;49m\u001b[38;5;124;43mr\u001b[39;49m\u001b[38;5;124;43m\"\u001b[39;49m\u001b[43m)\u001b[49m\n",
      "File \u001b[1;32m~\\anaconda3\\lib\\site-packages\\IPython\\core\\interactiveshell.py:286\u001b[0m, in \u001b[0;36m_modified_open\u001b[1;34m(file, *args, **kwargs)\u001b[0m\n\u001b[0;32m    279\u001b[0m \u001b[38;5;28;01mif\u001b[39;00m file \u001b[38;5;129;01min\u001b[39;00m {\u001b[38;5;241m0\u001b[39m, \u001b[38;5;241m1\u001b[39m, \u001b[38;5;241m2\u001b[39m}:\n\u001b[0;32m    280\u001b[0m     \u001b[38;5;28;01mraise\u001b[39;00m \u001b[38;5;167;01mValueError\u001b[39;00m(\n\u001b[0;32m    281\u001b[0m         \u001b[38;5;124mf\u001b[39m\u001b[38;5;124m\"\u001b[39m\u001b[38;5;124mIPython won\u001b[39m\u001b[38;5;124m'\u001b[39m\u001b[38;5;124mt let you open fd=\u001b[39m\u001b[38;5;132;01m{\u001b[39;00mfile\u001b[38;5;132;01m}\u001b[39;00m\u001b[38;5;124m by default \u001b[39m\u001b[38;5;124m\"\u001b[39m\n\u001b[0;32m    282\u001b[0m         \u001b[38;5;124m\"\u001b[39m\u001b[38;5;124mas it is likely to crash IPython. If you know what you are doing, \u001b[39m\u001b[38;5;124m\"\u001b[39m\n\u001b[0;32m    283\u001b[0m         \u001b[38;5;124m\"\u001b[39m\u001b[38;5;124myou can use builtins\u001b[39m\u001b[38;5;124m'\u001b[39m\u001b[38;5;124m open.\u001b[39m\u001b[38;5;124m\"\u001b[39m\n\u001b[0;32m    284\u001b[0m     )\n\u001b[1;32m--> 286\u001b[0m \u001b[38;5;28;01mreturn\u001b[39;00m io_open(file, \u001b[38;5;241m*\u001b[39margs, \u001b[38;5;241m*\u001b[39m\u001b[38;5;241m*\u001b[39mkwargs)\n",
      "\u001b[1;31mFileNotFoundError\u001b[0m: [Errno 2] No such file or directory: 'firsttttt.txt'"
     ]
    }
   ],
   "source": [
    "my_file_name = \"firsttttt.txt\"\n",
    "open(my_file_name, \"r\")"
   ]
  },
  {
   "cell_type": "code",
   "execution_count": 187,
   "id": "218223f8",
   "metadata": {},
   "outputs": [
    {
     "name": "stdout",
     "output_type": "stream",
     "text": [
      "File firsttttt.txt not found in current directory.\n"
     ]
    }
   ],
   "source": [
    "# Use an non-existent file:\n",
    "\n",
    "my_file_name = \"firsttttt.txt\"\n",
    "\n",
    "try:\n",
    "    file = open(my_file_name, \"r\")\n",
    "    file_lines = file.readlines()\n",
    "    \n",
    "    print(\"length of lines is:\", len(file_lines))\n",
    "    file.close()\n",
    "    print(\"File closed.\")\n",
    "\n",
    "except FileNotFoundError:\n",
    "    print(f\"File {my_file_name} not found in current directory.\")\n",
    "else:\n",
    "    print(\"File successfully read.\")    "
   ]
  },
  {
   "cell_type": "markdown",
   "id": "cc06e516",
   "metadata": {},
   "source": [
    "### Try, Except, Else Exceptions\n",
    "Let's validate our code by adding exceptions for common division errors."
   ]
  },
  {
   "cell_type": "code",
   "execution_count": 193,
   "id": "2b65edf8",
   "metadata": {},
   "outputs": [
    {
     "name": "stdin",
     "output_type": "stream",
     "text": [
      "Enter the denominator value:  0\n"
     ]
    },
    {
     "name": "stdout",
     "output_type": "stream",
     "text": [
      "The denominator should not be zero\n"
     ]
    }
   ],
   "source": [
    "try: \n",
    "    denom = float(input(\"Enter the denominator value: \")) \n",
    "    out = 50.0/denom \n",
    "\n",
    "except ZeroDivisionError: \n",
    "    print(\"The denominator should not be zero\") \n",
    "\n",
    "else: \n",
    "    print(\"The output is calculated successfully\")"
   ]
  },
  {
   "cell_type": "code",
   "execution_count": 197,
   "id": "b2281858",
   "metadata": {},
   "outputs": [
    {
     "name": "stdin",
     "output_type": "stream",
     "text": [
      "Enter the denominator value:  200\n"
     ]
    },
    {
     "name": "stdout",
     "output_type": "stream",
     "text": [
      "The output is calculated successfully: 50.0/ 200.0 = 0.25\n"
     ]
    }
   ],
   "source": [
    "# Multiple \n",
    "try: \n",
    "    denom = float(input(\"Enter the denominator value: \")) \n",
    "    out = 50.0/denom \n",
    "\n",
    "except ZeroDivisionError: \n",
    "    print(\"The denominator should not be zero\") \n",
    "except ValueError: # Checks that the provided value is a number \n",
    "    print(\"Error: Please enter a valid number for the denominator\")\n",
    "\n",
    "else: \n",
    "    print(f\"The output is calculated successfully: 50.0/ {denom} = {out}\")    \n",
    "  "
   ]
  },
  {
   "cell_type": "markdown",
   "id": "a68d6ff9-f9f5-461d-b7cf-54b072771322",
   "metadata": {},
   "source": [
    "### Other Exception clauses (the generic clause):"
   ]
  },
  {
   "cell_type": "code",
   "execution_count": 201,
   "id": "b52595ca",
   "metadata": {},
   "outputs": [
    {
     "name": "stdout",
     "output_type": "stream",
     "text": [
      "An exception has occured\n"
     ]
    }
   ],
   "source": [
    "try:\n",
    "    st = \"Hi\" + 20 #concatenate a string and a float\n",
    "except:\n",
    "    print(\"An exception has occured\")\n",
    "else: \n",
    "    print(\"No exception\")    "
   ]
  },
  {
   "cell_type": "markdown",
   "id": "f29a5b3e",
   "metadata": {},
   "source": [
    "### Try, Finally Exceptions\n",
    "The Finally code block will always execute, regardless if an exception is raised or not. "
   ]
  },
  {
   "cell_type": "code",
   "execution_count": 209,
   "id": "e2236b03",
   "metadata": {},
   "outputs": [
    {
     "name": "stdout",
     "output_type": "stream",
     "text": [
      "File local.txt not found in current directory.\n",
      "This is always executed.\n"
     ]
    }
   ],
   "source": [
    "try:\n",
    "    f = open(\"local.txt\", \"r\")\n",
    "    print(\"start reading some lines\")\n",
    "    lines = f.readlines()\n",
    "    \n",
    "except FileNotFoundError:\n",
    "    print(f\"File local.txt not found in current directory.\")\n",
    "    \n",
    "finally:\n",
    "    print(\"This is always executed.\")"
   ]
  },
  {
   "cell_type": "markdown",
   "id": "f9fe295e",
   "metadata": {},
   "source": [
    "### Exceptions with Arguments\n",
    "Add the error detail to the output."
   ]
  },
  {
   "cell_type": "code",
   "execution_count": 217,
   "id": "6c5e8309",
   "metadata": {},
   "outputs": [
    {
     "ename": "TypeError",
     "evalue": "can't multiply sequence by non-int of type 'str'",
     "output_type": "error",
     "traceback": [
      "\u001b[1;31m---------------------------------------------------------------------------\u001b[0m",
      "\u001b[1;31mTypeError\u001b[0m                                 Traceback (most recent call last)",
      "Cell \u001b[1;32mIn[217], line 1\u001b[0m\n\u001b[1;32m----> 1\u001b[0m st\u001b[38;5;241m=\u001b[39m\u001b[38;5;124;43m\"\u001b[39;49m\u001b[38;5;124;43mhello\u001b[39;49m\u001b[38;5;124;43m\"\u001b[39;49m\u001b[38;5;241;43m*\u001b[39;49m\u001b[38;5;124;43m\"\u001b[39;49m\u001b[38;5;124;43mworld\u001b[39;49m\u001b[38;5;124;43m\"\u001b[39;49m\n",
      "\u001b[1;31mTypeError\u001b[0m: can't multiply sequence by non-int of type 'str'"
     ]
    }
   ],
   "source": [
    "st=\"hello\"*\"world\""
   ]
  },
  {
   "cell_type": "code",
   "execution_count": 219,
   "id": "49dd7f17",
   "metadata": {},
   "outputs": [
    {
     "name": "stdout",
     "output_type": "stream",
     "text": [
      "TypeError Exception is raised.\n",
      "The error is about: can't multiply sequence by non-int of type 'str'\n"
     ]
    }
   ],
   "source": [
    "try:\n",
    "    st=\"hello\"*\"world\"\n",
    "except TypeError as arg:\n",
    "    print(\"TypeError Exception is raised.\")\n",
    "    print(\"The error is about:\", arg)"
   ]
  },
  {
   "cell_type": "markdown",
   "id": "cb6c7d93-dbc8-4ed4-87a8-a457f98820b8",
   "metadata": {},
   "source": [
    "#### Lastly!\n",
    "We can directly create our own exception in Python. \n",
    "\n",
    "**raise** is a Python keyword that triggers (or \"throws\") an exception\n",
    "\n",
    "**Exception()** creates a new exception object.\n",
    "\n",
    "So `raise Exception()` literally means \"throw the white towel!\"\n",
    "<br>It stops all compiling and signals that something went wrong."
   ]
  },
  {
   "cell_type": "code",
   "execution_count": 223,
   "id": "bea0669f-aaf4-4279-a579-a249dee7bd6f",
   "metadata": {},
   "outputs": [
    {
     "ename": "Exception",
     "evalue": "",
     "output_type": "error",
     "traceback": [
      "\u001b[1;31m---------------------------------------------------------------------------\u001b[0m",
      "\u001b[1;31mException\u001b[0m                                 Traceback (most recent call last)",
      "Cell \u001b[1;32mIn[223], line 1\u001b[0m\n\u001b[1;32m----> 1\u001b[0m \u001b[38;5;28;01mraise\u001b[39;00m \u001b[38;5;167;01mException\u001b[39;00m()\n",
      "\u001b[1;31mException\u001b[0m: "
     ]
    }
   ],
   "source": [
    "raise Exception()"
   ]
  },
  {
   "cell_type": "code",
   "execution_count": 238,
   "id": "e882d713-7d4b-4d48-8d7d-f2d8b51a4c32",
   "metadata": {},
   "outputs": [
    {
     "ename": "Exception",
     "evalue": "Cannot divide by zero.",
     "output_type": "error",
     "traceback": [
      "\u001b[1;31m---------------------------------------------------------------------------\u001b[0m",
      "\u001b[1;31mException\u001b[0m                                 Traceback (most recent call last)",
      "Cell \u001b[1;32mIn[238], line 8\u001b[0m\n\u001b[0;32m      5\u001b[0m         \u001b[38;5;28;01mraise\u001b[39;00m \u001b[38;5;167;01mException\u001b[39;00m(\u001b[38;5;124m\"\u001b[39m\u001b[38;5;124mCannot divide by zero.\u001b[39m\u001b[38;5;124m\"\u001b[39m)\n\u001b[0;32m      6\u001b[0m     \u001b[38;5;28;01mreturn\u001b[39;00m x\u001b[38;5;241m/\u001b[39my\n\u001b[1;32m----> 8\u001b[0m \u001b[43mdivide\u001b[49m\u001b[43m(\u001b[49m\u001b[38;5;241;43m10\u001b[39;49m\u001b[43m,\u001b[49m\u001b[38;5;241;43m0\u001b[39;49m\u001b[43m)\u001b[49m\n",
      "Cell \u001b[1;32mIn[238], line 5\u001b[0m, in \u001b[0;36mdivide\u001b[1;34m(x, y)\u001b[0m\n\u001b[0;32m      3\u001b[0m \u001b[38;5;28;01mdef\u001b[39;00m\u001b[38;5;250m \u001b[39m\u001b[38;5;21mdivide\u001b[39m (x, y):\n\u001b[0;32m      4\u001b[0m     \u001b[38;5;28;01mif\u001b[39;00m y \u001b[38;5;241m==\u001b[39m \u001b[38;5;241m0\u001b[39m:\n\u001b[1;32m----> 5\u001b[0m         \u001b[38;5;28;01mraise\u001b[39;00m \u001b[38;5;167;01mException\u001b[39;00m(\u001b[38;5;124m\"\u001b[39m\u001b[38;5;124mCannot divide by zero.\u001b[39m\u001b[38;5;124m\"\u001b[39m)\n\u001b[0;32m      6\u001b[0m     \u001b[38;5;28;01mreturn\u001b[39;00m x\u001b[38;5;241m/\u001b[39my\n",
      "\u001b[1;31mException\u001b[0m: Cannot divide by zero."
     ]
    }
   ],
   "source": [
    "# Let's write our own divide by zero exception error.\n",
    "''' An exception is raised because the if statement is \n",
    "true  in this example and the code block, which contains the `raise`, \n",
    "is executed.'''\n",
    "\n",
    "def divide (x, y):\n",
    "    if y == 0:\n",
    "        raise Exception(\"Cannot divide by zero.\")\n",
    "    return x/y\n",
    "\n",
    "divide(10,0)"
   ]
  }
 ],
 "metadata": {
  "kernelspec": {
   "display_name": "Python [conda env:base] *",
   "language": "python",
   "name": "conda-base-py"
  },
  "language_info": {
   "codemirror_mode": {
    "name": "ipython",
    "version": 3
   },
   "file_extension": ".py",
   "mimetype": "text/x-python",
   "name": "python",
   "nbconvert_exporter": "python",
   "pygments_lexer": "ipython3",
   "version": "3.9.17"
  }
 },
 "nbformat": 4,
 "nbformat_minor": 5
}
