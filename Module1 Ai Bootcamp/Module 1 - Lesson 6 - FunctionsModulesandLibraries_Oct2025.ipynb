{
 "cells": [
  {
   "cell_type": "markdown",
   "id": "55db175a-2cb3-4943-bcd9-dd06dcc83ae9",
   "metadata": {},
   "source": [
    "<h1><center> Module 1 - Lesson 5 </center></h1>\n",
    "\n",
    "#### Functions, Modules & Libraries: \n",
    "\n",
    "---\n",
    "- Creating and using functions\n",
    "- Function arguments\n",
    "- import function and creating/using Modules\n",
    "- Python libraries"
   ]
  },
  {
   "cell_type": "markdown",
   "id": "af559665-3d83-414b-bc02-0ae4151352cd",
   "metadata": {},
   "source": [
    "### Functions"
   ]
  },
  {
   "cell_type": "code",
   "execution_count": 3,
   "id": "949e7951-bd15-4111-a40f-323e1317a910",
   "metadata": {},
   "outputs": [],
   "source": [
    "# Create a new function!\n",
    "\n",
    "#keyword function_name ():\n",
    " #  code block\n",
    "\n",
    "def happy_funday () :\n",
    "    print(\"Welcome to the almost best day of the week!\")"
   ]
  },
  {
   "cell_type": "code",
   "execution_count": 4,
   "id": "7af90114-5848-45ad-8fae-8e23ef22c47c",
   "metadata": {},
   "outputs": [],
   "source": [
    "# Creating a functions is like creating a variable, but containing code\n",
    "# No output until you ask it to display or use it\n",
    "a = 1"
   ]
  },
  {
   "cell_type": "code",
   "execution_count": 5,
   "id": "7f7f7ede-a3e0-4c01-9a96-2d7041c65bf1",
   "metadata": {},
   "outputs": [
    {
     "data": {
      "text/plain": [
       "1"
      ]
     },
     "execution_count": 5,
     "metadata": {},
     "output_type": "execute_result"
    }
   ],
   "source": [
    "a"
   ]
  },
  {
   "cell_type": "code",
   "execution_count": 6,
   "id": "2cec92c6-5384-4286-9f3a-84235fb3ec62",
   "metadata": {},
   "outputs": [
    {
     "name": "stdout",
     "output_type": "stream",
     "text": [
      "Welcome to the almost best day of the week!\n"
     ]
    }
   ],
   "source": [
    "happy_funday()"
   ]
  },
  {
   "cell_type": "code",
   "execution_count": 7,
   "id": "de330260-81de-45b7-838d-90820d812132",
   "metadata": {},
   "outputs": [
    {
     "name": "stdout",
     "output_type": "stream",
     "text": [
      "Welcome to the best day of the week!\n"
     ]
    }
   ],
   "source": [
    "def happy_friday () :\n",
    "    print(\"Welcome to the best day of the week!\")\n",
    "\n",
    "happy_friday()"
   ]
  },
  {
   "cell_type": "code",
   "execution_count": 8,
   "id": "bf236d14-a4b5-445f-a485-c5f61e0b6311",
   "metadata": {},
   "outputs": [],
   "source": [
    "# Add the 'return' to the end of a function to send info out\n",
    "\n",
    "def second_in_hour():\n",
    "    sec_in_min = 60\n",
    "    min_in_hour = 60\n",
    "    print(\"Calculating inside the function:\",sec_in_min*min_in_hour)\n",
    "    return sec_in_min*min_in_hour\n"
   ]
  },
  {
   "cell_type": "code",
   "execution_count": 9,
   "id": "55caccc6-1d98-4385-a283-2436446c361e",
   "metadata": {},
   "outputs": [
    {
     "name": "stdout",
     "output_type": "stream",
     "text": [
      "Calculating inside the function: 3600\n"
     ]
    },
    {
     "data": {
      "text/plain": [
       "3600"
      ]
     },
     "execution_count": 9,
     "metadata": {},
     "output_type": "execute_result"
    }
   ],
   "source": [
    "second_in_hour()\n"
   ]
  },
  {
   "cell_type": "code",
   "execution_count": 10,
   "id": "ce616a91-0b82-4872-9e14-56cbbee7837f",
   "metadata": {},
   "outputs": [
    {
     "name": "stdout",
     "output_type": "stream",
     "text": [
      "Calculating inside the function: 3600\n"
     ]
    },
    {
     "data": {
      "text/plain": [
       "3600"
      ]
     },
     "execution_count": 10,
     "metadata": {},
     "output_type": "execute_result"
    }
   ],
   "source": [
    "minutes = second_in_hour()\n",
    "minutes"
   ]
  },
  {
   "cell_type": "code",
   "execution_count": 11,
   "id": "945f4ec0-817f-4009-baaa-d35999f17e0d",
   "metadata": {},
   "outputs": [
    {
     "name": "stdout",
     "output_type": "stream",
     "text": [
      "Calculating inside the function: 3600\n",
      "3600\n"
     ]
    }
   ],
   "source": [
    "print(second_in_hour())"
   ]
  },
  {
   "cell_type": "markdown",
   "id": "9af61872-3794-4838-b839-371a22d868ca",
   "metadata": {},
   "source": [
    "### Function Argments"
   ]
  },
  {
   "cell_type": "markdown",
   "id": "d48a11fe-afd2-4b34-aa70-95fde35e60e5",
   "metadata": {},
   "source": [
    "#### Positional Arguments\n",
    "\n",
    "Call the function using the arguments in the order they appear in the definition"
   ]
  },
  {
   "cell_type": "code",
   "execution_count": 14,
   "id": "06264f46-df5b-43a8-9af6-d76a2d033fd6",
   "metadata": {},
   "outputs": [],
   "source": [
    "def welcome(student_name, grade):\n",
    "    print(f\"Hello, {student_name} - Welcome to Grade {grade}!\")"
   ]
  },
  {
   "cell_type": "code",
   "execution_count": 15,
   "id": "4df3fdd8-c166-4dcd-89c7-3ca69e6a07f6",
   "metadata": {},
   "outputs": [
    {
     "name": "stdout",
     "output_type": "stream",
     "text": [
      "Hello, Nicole - Welcome to Grade 12!\n"
     ]
    }
   ],
   "source": [
    "welcome(\"Nicole\", \"12\")"
   ]
  },
  {
   "cell_type": "markdown",
   "id": "ebc6ffd6-5f44-44cd-a33a-d7fb68b8fd9b",
   "metadata": {},
   "source": [
    "# For example:\n",
    "def range(starting_value, ending_value, increment = 1):\n",
    "    code block"
   ]
  },
  {
   "cell_type": "code",
   "execution_count": 17,
   "id": "8f18eab8-c733-4ef2-9f5c-fb53823cce1d",
   "metadata": {},
   "outputs": [
    {
     "data": {
      "text/plain": [
       "range(1, 10)"
      ]
     },
     "execution_count": 17,
     "metadata": {},
     "output_type": "execute_result"
    }
   ],
   "source": [
    "range(1,10,1)"
   ]
  },
  {
   "cell_type": "code",
   "execution_count": 18,
   "id": "df7cdfda-7604-4b68-a7fc-3120ea188f6d",
   "metadata": {},
   "outputs": [
    {
     "name": "stdout",
     "output_type": "stream",
     "text": [
      "Hello, 12 - Welcome to Grade Matt!\n"
     ]
    }
   ],
   "source": [
    "# Order matters! These are positional!\n",
    "welcome(12, \"Matt\")"
   ]
  },
  {
   "cell_type": "markdown",
   "id": "5bc07fd1-2487-4891-9ed0-292e451f2415",
   "metadata": {},
   "source": [
    "#### Keyword Arguments"
   ]
  },
  {
   "cell_type": "code",
   "execution_count": 20,
   "id": "2fa56257-ebf7-4244-b769-517fa05b3ff7",
   "metadata": {},
   "outputs": [
    {
     "name": "stdout",
     "output_type": "stream",
     "text": [
      "Hello, Nicole - Welcome to Grade 12!\n"
     ]
    }
   ],
   "source": [
    "welcome(student_name=\"Nicole\", grade = \"12\")"
   ]
  },
  {
   "cell_type": "code",
   "execution_count": 21,
   "id": "828f440f-f4fc-4398-8c21-d78fed9e0fb6",
   "metadata": {},
   "outputs": [
    {
     "name": "stdout",
     "output_type": "stream",
     "text": [
      "Hello, Omar - Welcome to Grade 1!\n"
     ]
    }
   ],
   "source": [
    "welcome(grade = \"1\", student_name=\"Omar\" )"
   ]
  },
  {
   "cell_type": "markdown",
   "id": "9ece4386-870b-40dd-95c3-e6a8dd2c8ae5",
   "metadata": {},
   "source": [
    "#### Default/Optional Arguments"
   ]
  },
  {
   "cell_type": "code",
   "execution_count": 23,
   "id": "577a285b-5281-4bf8-8fdc-4e2f0f9deeb3",
   "metadata": {},
   "outputs": [],
   "source": [
    "def sudo_range(starting_value, ending_value, increment = 1):\n",
    "    print(starting_value+increment)"
   ]
  },
  {
   "cell_type": "code",
   "execution_count": 24,
   "id": "8d676bc4-c7ad-438f-8d55-44d59894f842",
   "metadata": {},
   "outputs": [
    {
     "name": "stdout",
     "output_type": "stream",
     "text": [
      "6\n"
     ]
    }
   ],
   "source": [
    "sudo_range(1,10,5)"
   ]
  },
  {
   "cell_type": "markdown",
   "id": "f62dc4b1-737f-40e6-ab1c-6596ecb1daa0",
   "metadata": {},
   "source": [
    "#### Variable Length Arguments"
   ]
  },
  {
   "cell_type": "code",
   "execution_count": 26,
   "id": "707beb86-a918-4e66-ad22-652a165740f6",
   "metadata": {},
   "outputs": [
    {
     "data": {
      "text/plain": [
       "147000000"
      ]
     },
     "execution_count": 26,
     "metadata": {},
     "output_type": "execute_result"
    }
   ],
   "source": [
    "# use *args to accept a variable \n",
    "# number of positional arguments\n",
    "\n",
    "def multiply_numbers(*args):\n",
    "    total = 1\n",
    "    for num in args:\n",
    "        total *= num\n",
    "    return total\n",
    "    \n",
    "multiply_numbers(1,2,3,5,7,700000)"
   ]
  },
  {
   "cell_type": "code",
   "execution_count": 27,
   "id": "a138c5d2-0faf-4ca9-b259-3654e9242706",
   "metadata": {},
   "outputs": [],
   "source": [
    "# Use **kwargs to create a function that can \n",
    "# handle various keyword arguments without \n",
    "# explicitly defining them in the function's \n",
    "# parameter list. Python uses the keyword as the 'key'\n",
    "# and the assigment as the 'value' and stores the\n",
    "# pairs in a dictionary."
   ]
  },
  {
   "cell_type": "code",
   "execution_count": 28,
   "id": "36d96181-b0e0-4399-bc53-eba3eef57eee",
   "metadata": {},
   "outputs": [],
   "source": [
    "def example_function(**kwargs):\n",
    "    movies = {}  # Create an empty dictionary to store the key-value pairs\n",
    "    \n",
    "    for key, value in kwargs.items():\n",
    "        movies[key] = value  # Save key-value pair in the dictionary\n",
    "    return movies"
   ]
  },
  {
   "cell_type": "code",
   "execution_count": 29,
   "id": "0d0c273d-47ba-4091-ab7f-6aa82d9f4642",
   "metadata": {},
   "outputs": [
    {
     "name": "stdout",
     "output_type": "stream",
     "text": [
      "{'movie': 'Toy Story', 'year': 1995, 'revenue': 395000000}\n"
     ]
    }
   ],
   "source": [
    "result = example_function(movie = \"Toy Story\", year = 1995, revenue = 395000000)\n",
    "print(result)"
   ]
  },
  {
   "cell_type": "markdown",
   "id": "dbc43164-79c4-41d1-86b4-0460a8be1753",
   "metadata": {},
   "source": [
    "#### Anonymous Functions"
   ]
  },
  {
   "cell_type": "code",
   "execution_count": 31,
   "id": "fd082e93-576d-400d-a538-3f6664606f01",
   "metadata": {},
   "outputs": [
    {
     "data": {
      "text/plain": [
       "10"
      ]
     },
     "execution_count": 31,
     "metadata": {},
     "output_type": "execute_result"
    }
   ],
   "source": [
    "# A simple, single line function\n",
    "double = lambda x : x*2\n",
    "double(5)"
   ]
  },
  {
   "cell_type": "markdown",
   "id": "4c8f73e9-2875-40a7-8ae1-6df50130cb11",
   "metadata": {},
   "source": [
    "## Local and Global Variables"
   ]
  },
  {
   "cell_type": "markdown",
   "id": "6758aa2d-df76-4a53-bca6-8d5a8d2c55b0",
   "metadata": {},
   "source": [
    "#### Local Variables"
   ]
  },
  {
   "cell_type": "code",
   "execution_count": 33,
   "id": "449a8f75-d79d-455b-98b6-6b19154b4158",
   "metadata": {},
   "outputs": [
    {
     "data": {
      "text/plain": [
       "50"
      ]
     },
     "execution_count": 33,
     "metadata": {},
     "output_type": "execute_result"
    }
   ],
   "source": [
    "def multiply_two_numbers(a,b):\n",
    "    total = a * b #total is a local variable, temporarily created for the exclusive use of this function\n",
    "    print(total)\n",
    "    return total\n",
    "    \n",
    "multiply_two_numbers(5, 10)    "
   ]
  },
  {
   "cell_type": "code",
   "execution_count": 34,
   "id": "21fa06d2-d87d-4abd-8c9b-bd18691eca66",
   "metadata": {},
   "outputs": [
    {
     "ename": "NameError",
     "evalue": "name 'total' is not defined",
     "output_type": "error",
     "traceback": [
      "\u001b[1;31m---------------------------------------------------------------------------\u001b[0m",
      "\u001b[1;31mNameError\u001b[0m                                 Traceback (most recent call last)",
      "Cell \u001b[1;32mIn[34], line 1\u001b[0m\n\u001b[1;32m----> 1\u001b[0m \u001b[43mtotal\u001b[49m\n",
      "\u001b[1;31mNameError\u001b[0m: name 'total' is not defined"
     ]
    }
   ],
   "source": [
    "# the variable cannot be accessed outside of the function. (It doesn't actually persist after the use of the function)\n",
    "total"
   ]
  },
  {
   "cell_type": "code",
   "execution_count": 64,
   "id": "83aebc70-e7f5-4c43-acd3-d71fb552d4bf",
   "metadata": {},
   "outputs": [
    {
     "data": {
      "text/plain": [
       "50"
      ]
     },
     "execution_count": 64,
     "metadata": {},
     "output_type": "execute_result"
    }
   ],
   "source": [
    "my_total = multiply_two_numbers(5, 10) \n",
    "my_total"
   ]
  },
  {
   "cell_type": "code",
   "execution_count": 65,
   "id": "5c877213-0fc4-4aa0-8430-01ed85bb7bf0",
   "metadata": {},
   "outputs": [
    {
     "data": {
      "text/plain": [
       "100"
      ]
     },
     "execution_count": 65,
     "metadata": {},
     "output_type": "execute_result"
    }
   ],
   "source": [
    "my_total*2"
   ]
  },
  {
   "cell_type": "markdown",
   "id": "a3c8086c-96fd-4ecb-b2fa-7ef8ddab13a5",
   "metadata": {},
   "source": [
    "#### Global Variables"
   ]
  },
  {
   "cell_type": "code",
   "execution_count": 67,
   "id": "b6bd49e4-76d3-4bc3-92da-3ed8efd80ed2",
   "metadata": {},
   "outputs": [
    {
     "data": {
      "text/plain": [
       "50"
      ]
     },
     "execution_count": 67,
     "metadata": {},
     "output_type": "execute_result"
    }
   ],
   "source": [
    "c = 100 # This is a Global variable (can be used in and outside of any functions)\n",
    "\n",
    "def multiply_three_numbers(a,b):\n",
    "    c = 1\n",
    "    total = a * b * c\n",
    "    #print(total)\n",
    "    return total\n",
    "\n",
    "multiply_three_numbers(5, 10) "
   ]
  },
  {
   "cell_type": "code",
   "execution_count": 68,
   "id": "2ef8a888-dc8f-4a4c-bc1f-704a99d75226",
   "metadata": {},
   "outputs": [
    {
     "data": {
      "text/plain": [
       "5000"
      ]
     },
     "execution_count": 68,
     "metadata": {},
     "output_type": "execute_result"
    }
   ],
   "source": [
    "# This method is preferred if you need to use a global variable inside a function, to control the flow\n",
    "# of the data and avoid any confusion\n",
    "\n",
    "def multiply_three_numbers(a,b,c):\n",
    "    total = a * b * c\n",
    "    #print(total)\n",
    "    return total\n",
    "\n",
    "multiply_three_numbers(5, 10, c) "
   ]
  },
  {
   "cell_type": "markdown",
   "id": "4e685bcb-388f-4e57-80a2-a7352caebaed",
   "metadata": {},
   "source": [
    "## Modules"
   ]
  },
  {
   "cell_type": "code",
   "execution_count": 70,
   "id": "1a9b7bf1-3f0e-4612-ae12-6fdf55498068",
   "metadata": {},
   "outputs": [
    {
     "data": {
      "text/plain": [
       "['__doc__',\n",
       " '__loader__',\n",
       " '__name__',\n",
       " '__package__',\n",
       " '__spec__',\n",
       " 'acos',\n",
       " 'acosh',\n",
       " 'asin',\n",
       " 'asinh',\n",
       " 'atan',\n",
       " 'atan2',\n",
       " 'atanh',\n",
       " 'ceil',\n",
       " 'comb',\n",
       " 'copysign',\n",
       " 'cos',\n",
       " 'cosh',\n",
       " 'degrees',\n",
       " 'dist',\n",
       " 'e',\n",
       " 'erf',\n",
       " 'erfc',\n",
       " 'exp',\n",
       " 'expm1',\n",
       " 'fabs',\n",
       " 'factorial',\n",
       " 'floor',\n",
       " 'fmod',\n",
       " 'frexp',\n",
       " 'fsum',\n",
       " 'gamma',\n",
       " 'gcd',\n",
       " 'hypot',\n",
       " 'inf',\n",
       " 'isclose',\n",
       " 'isfinite',\n",
       " 'isinf',\n",
       " 'isnan',\n",
       " 'isqrt',\n",
       " 'lcm',\n",
       " 'ldexp',\n",
       " 'lgamma',\n",
       " 'log',\n",
       " 'log10',\n",
       " 'log1p',\n",
       " 'log2',\n",
       " 'modf',\n",
       " 'nan',\n",
       " 'nextafter',\n",
       " 'perm',\n",
       " 'pi',\n",
       " 'pow',\n",
       " 'prod',\n",
       " 'radians',\n",
       " 'remainder',\n",
       " 'sin',\n",
       " 'sinh',\n",
       " 'sqrt',\n",
       " 'tan',\n",
       " 'tanh',\n",
       " 'tau',\n",
       " 'trunc',\n",
       " 'ulp']"
      ]
     },
     "execution_count": 70,
     "metadata": {},
     "output_type": "execute_result"
    }
   ],
   "source": [
    "# A separate Python file containing statements \n",
    "# and definitions that can be imported\n",
    "# https://docs.python.org/3/py-modindex.html\n",
    "\n",
    "# Access these modules with the import keyword\n",
    "\n",
    "import math\n",
    "\n",
    "dir(math)"
   ]
  },
  {
   "cell_type": "code",
   "execution_count": 71,
   "id": "ad0e500a-5256-476b-873e-e4abcaa0f9c5",
   "metadata": {},
   "outputs": [
    {
     "data": {
      "text/plain": [
       "3.141592653589793"
      ]
     },
     "execution_count": 71,
     "metadata": {},
     "output_type": "execute_result"
    }
   ],
   "source": [
    "# Beware the difference between functions and definitions!\n",
    "math.pi"
   ]
  },
  {
   "cell_type": "code",
   "execution_count": 72,
   "id": "a90250ae-d466-485a-b299-0f8e0510bb72",
   "metadata": {},
   "outputs": [
    {
     "data": {
      "text/plain": [
       "6.283185307179586"
      ]
     },
     "execution_count": 72,
     "metadata": {},
     "output_type": "execute_result"
    }
   ],
   "source": [
    "math.pi*2"
   ]
  },
  {
   "cell_type": "code",
   "execution_count": 73,
   "id": "1598f94e-eaeb-4763-a396-eaa78e56b251",
   "metadata": {},
   "outputs": [
    {
     "data": {
      "text/plain": [
       "7.0"
      ]
     },
     "execution_count": 73,
     "metadata": {},
     "output_type": "execute_result"
    }
   ],
   "source": [
    "math.sqrt(49)"
   ]
  },
  {
   "cell_type": "code",
   "execution_count": 74,
   "id": "2321c9b8-26d9-4e71-8220-6c5935caf87c",
   "metadata": {},
   "outputs": [],
   "source": [
    "# Can import modules with an Alias\n",
    "import math as m"
   ]
  },
  {
   "cell_type": "code",
   "execution_count": 75,
   "id": "51278998-d409-41aa-a3e1-14ec86d4500a",
   "metadata": {},
   "outputs": [
    {
     "data": {
      "text/plain": [
       "3.141592653589793"
      ]
     },
     "execution_count": 75,
     "metadata": {},
     "output_type": "execute_result"
    }
   ],
   "source": [
    "m.pi"
   ]
  },
  {
   "cell_type": "code",
   "execution_count": 76,
   "id": "9aec3fac-2f18-4b65-90e3-9fbbcbf1b449",
   "metadata": {},
   "outputs": [],
   "source": [
    "# Can import only desired definitions/statements\n",
    "from math import pi"
   ]
  },
  {
   "cell_type": "code",
   "execution_count": 77,
   "id": "dea85ffe-3003-487e-9b89-bd99c4b2419f",
   "metadata": {},
   "outputs": [
    {
     "data": {
      "text/plain": [
       "7.0"
      ]
     },
     "execution_count": 77,
     "metadata": {},
     "output_type": "execute_result"
    }
   ],
   "source": [
    "math.sqrt(49)"
   ]
  },
  {
   "cell_type": "code",
   "execution_count": 78,
   "id": "173ec2a6-4326-4b7d-bfb0-fc3f56d78a90",
   "metadata": {},
   "outputs": [
    {
     "data": {
      "text/plain": [
       "3.141592653589793"
      ]
     },
     "execution_count": 78,
     "metadata": {},
     "output_type": "execute_result"
    }
   ],
   "source": [
    "pi"
   ]
  },
  {
   "cell_type": "code",
   "execution_count": 79,
   "id": "99ae80f8-bbf1-4294-bcfb-c700fbcfcdc8",
   "metadata": {},
   "outputs": [],
   "source": [
    "# Can import all functions/definitions in a module directly to the main file\n",
    "from math import *"
   ]
  },
  {
   "cell_type": "code",
   "execution_count": 80,
   "id": "96467888-f8d0-4d98-866a-59db7e8449d5",
   "metadata": {},
   "outputs": [
    {
     "data": {
      "text/plain": [
       "7.0"
      ]
     },
     "execution_count": 80,
     "metadata": {},
     "output_type": "execute_result"
    }
   ],
   "source": [
    "sqrt(49)"
   ]
  },
  {
   "cell_type": "code",
   "execution_count": 81,
   "id": "5c3beee7-986f-4093-a86b-f6200c854ff3",
   "metadata": {},
   "outputs": [],
   "source": [
    "# Can even import our own module!\n",
    "\n",
    "import new_module"
   ]
  },
  {
   "cell_type": "code",
   "execution_count": 82,
   "id": "e02b33a3-37c6-444e-a196-8e6c31cf5bae",
   "metadata": {},
   "outputs": [
    {
     "data": {
      "text/plain": [
       "['__builtins__',\n",
       " '__cached__',\n",
       " '__doc__',\n",
       " '__file__',\n",
       " '__loader__',\n",
       " '__name__',\n",
       " '__package__',\n",
       " '__spec__',\n",
       " 'greeting',\n",
       " 'square']"
      ]
     },
     "execution_count": 82,
     "metadata": {},
     "output_type": "execute_result"
    }
   ],
   "source": [
    "dir(new_module)"
   ]
  },
  {
   "cell_type": "code",
   "execution_count": 83,
   "id": "87fa1bfa-5374-44e1-88ed-c3b2a2c9e2e5",
   "metadata": {},
   "outputs": [
    {
     "data": {
      "text/plain": [
       "'Hello, Nicole!'"
      ]
     },
     "execution_count": 83,
     "metadata": {},
     "output_type": "execute_result"
    }
   ],
   "source": [
    "new_module.greeting(\"Nicole\")"
   ]
  },
  {
   "cell_type": "code",
   "execution_count": 84,
   "id": "eb71565a-5697-449b-bf4f-a3eca9a1da44",
   "metadata": {},
   "outputs": [
    {
     "data": {
      "text/plain": [
       "4"
      ]
     },
     "execution_count": 84,
     "metadata": {},
     "output_type": "execute_result"
    }
   ],
   "source": [
    "new_module.square(2)"
   ]
  },
  {
   "cell_type": "markdown",
   "id": "bdb119d1-06da-460f-a662-9b523f390c97",
   "metadata": {},
   "source": [
    "## Libraries"
   ]
  },
  {
   "cell_type": "markdown",
   "id": "887fb4c7-6f8b-4649-9200-29281723e5e3",
   "metadata": {},
   "source": [
    "### Numpy\n",
    "a library for advanced mathematical computations"
   ]
  },
  {
   "cell_type": "code",
   "execution_count": 87,
   "id": "871f9108-65b0-4014-9154-230f8374aa2f",
   "metadata": {},
   "outputs": [],
   "source": [
    "import numpy as np"
   ]
  },
  {
   "cell_type": "code",
   "execution_count": 88,
   "id": "c7fd3cbe-dd70-494d-8278-82bcf641e4bc",
   "metadata": {},
   "outputs": [
    {
     "name": "stdout",
     "output_type": "stream",
     "text": [
      "<class 'list'>\n",
      "[0.1, 0.2, 0.3, 0.1, 0.2, 0.3]\n",
      "<class 'numpy.ndarray'>\n",
      "[0.2 0.4 0.6]\n"
     ]
    }
   ],
   "source": [
    "# Create a NumPy array\n",
    "\n",
    "list = [0.1, 0.2, 0.3]\n",
    "print(type(list))\n",
    "print(list*2)\n",
    "\n",
    "arr = np.array([0.1, 0.2, 0.3])\n",
    "print(type(arr))\n",
    "print(arr*2)"
   ]
  },
  {
   "cell_type": "code",
   "execution_count": 89,
   "id": "80c5cba9-7c8b-41ed-bd3a-a184cef5b780",
   "metadata": {},
   "outputs": [
    {
     "data": {
      "text/plain": [
       "array([25, 30, 22])"
      ]
     },
     "execution_count": 89,
     "metadata": {},
     "output_type": "execute_result"
    }
   ],
   "source": [
    "# Can create arrays from different types of Python data objects\n",
    "# Here we can use the list from a dictionary\n",
    "\n",
    "data = {'Name': ['Sam', 'Susan', 'Shen'],\n",
    "        'Age': [25, 30, 22]}\n",
    "\n",
    "np.array(data[\"Age\"])"
   ]
  },
  {
   "cell_type": "markdown",
   "id": "589f8a25-8211-4d5c-805e-1ba1f6ebdf63",
   "metadata": {},
   "source": [
    "### pandas\n",
    "A powerful library for data manipulation and analysis, best known for it's Dataframe, table like, object"
   ]
  },
  {
   "cell_type": "code",
   "execution_count": 91,
   "id": "2f4c8daa-9e6e-4fab-8d50-507dd76c26c4",
   "metadata": {},
   "outputs": [],
   "source": [
    "# pandas is like Excel, but for Python!\n",
    "\n",
    "import pandas as pd"
   ]
  },
  {
   "cell_type": "code",
   "execution_count": 92,
   "id": "bb965f71-8404-47b5-b90b-9ea1b043c928",
   "metadata": {},
   "outputs": [
    {
     "data": {
      "text/html": [
       "<div>\n",
       "<style scoped>\n",
       "    .dataframe tbody tr th:only-of-type {\n",
       "        vertical-align: middle;\n",
       "    }\n",
       "\n",
       "    .dataframe tbody tr th {\n",
       "        vertical-align: top;\n",
       "    }\n",
       "\n",
       "    .dataframe thead th {\n",
       "        text-align: right;\n",
       "    }\n",
       "</style>\n",
       "<table border=\"1\" class=\"dataframe\">\n",
       "  <thead>\n",
       "    <tr style=\"text-align: right;\">\n",
       "      <th></th>\n",
       "      <th>Name</th>\n",
       "      <th>Age</th>\n",
       "    </tr>\n",
       "  </thead>\n",
       "  <tbody>\n",
       "    <tr>\n",
       "      <th>0</th>\n",
       "      <td>Sam</td>\n",
       "      <td>25</td>\n",
       "    </tr>\n",
       "    <tr>\n",
       "      <th>1</th>\n",
       "      <td>Susan</td>\n",
       "      <td>30</td>\n",
       "    </tr>\n",
       "    <tr>\n",
       "      <th>2</th>\n",
       "      <td>Shen</td>\n",
       "      <td>22</td>\n",
       "    </tr>\n",
       "  </tbody>\n",
       "</table>\n",
       "</div>"
      ],
      "text/plain": [
       "    Name  Age\n",
       "0    Sam   25\n",
       "1  Susan   30\n",
       "2   Shen   22"
      ]
     },
     "metadata": {},
     "output_type": "display_data"
    }
   ],
   "source": [
    "df = pd.DataFrame(data)\n",
    "display(df)"
   ]
  }
 ],
 "metadata": {
  "kernelspec": {
   "display_name": "Python [conda env:base] *",
   "language": "python",
   "name": "conda-base-py"
  },
  "language_info": {
   "codemirror_mode": {
    "name": "ipython",
    "version": 3
   },
   "file_extension": ".py",
   "mimetype": "text/x-python",
   "name": "python",
   "nbconvert_exporter": "python",
   "pygments_lexer": "ipython3",
   "version": "3.9.17"
  }
 },
 "nbformat": 4,
 "nbformat_minor": 5
}
