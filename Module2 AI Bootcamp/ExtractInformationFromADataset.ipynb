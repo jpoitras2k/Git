{
 "cells": [
  {
   "cell_type": "markdown",
   "id": "b30a6ea6",
   "metadata": {},
   "source": [
    "Another rather popular built-in dataset is the Iris dataset. You will need to load it before continuing. The Iris dataset contains information about 3 types of the iris plant. The dataset contains 150 data tuples and their corresponding target labels.  Each tuple consists of four attributes about a certain plant: sepal length, sepal width, petal length, and petal width (all in cm units), in that order. The target label is integer 0, 1, or 2, representing the tuple's classification as an Iris Setosa, an Iris Versicolor, or an Iris Virginica, respectively.\n",
    "\n",
    "Your code should perform the following tasks to complete this mission in the editor provided:\n",
    "\n",
    "Load the Iris dataset from the Scikit-Learn library.\n",
    "Extract data tuple with index 7 and its target.\n",
    "Extract the sepal width (in cm) of the plant with index 7 and its target label as integer 0, 1, or 2.\n",
    "Your code should return the image of the seventh index’s sepal_width and its label.\n",
    "\n",
    "HINT: The sepal width (in cm) is the element with index 1 in the data tuple.\n",
    "\n",
    "You can revisit Scikit-Learn' basics here."
   ]
  },
  {
   "cell_type": "code",
   "execution_count": 17,
   "id": "48650e1a",
   "metadata": {},
   "outputs": [
    {
     "name": "stdout",
     "output_type": "stream",
     "text": [
      "Sepal width of plant at index 7: 3.4 cm\n"
     ]
    }
   ],
   "source": [
    "# Load the Iris dataset from the sklearn library\n",
    "from sklearn.datasets import load_iris\n",
    "\n",
    "# Extract Data Tuble with index 7 and its target. The returned object is a dictionary\n",
    "dataset = load_iris()\n",
    "index_to_extract = 7\n",
    "#Extract the sepal width (in cm) of the plant with index 7 and its target label as integer 0, 1, or 2. The sepal width (in cm) is the element with index 1 in the data tuple.\n",
    "sepal_width = dataset.data[index_to_extract][1]\n",
    "label = dataset.target[index_to_extract]\n",
    "print(f\"Sepal width of plant at index {index_to_extract}: {sepal_width} cm\")\n"
   ]
  }
 ],
 "metadata": {
  "kernelspec": {
   "display_name": ".venv",
   "language": "python",
   "name": "python3"
  },
  "language_info": {
   "codemirror_mode": {
    "name": "ipython",
    "version": 3
   },
   "file_extension": ".py",
   "mimetype": "text/x-python",
   "name": "python",
   "nbconvert_exporter": "python",
   "pygments_lexer": "ipython3",
   "version": "3.14.0"
  }
 },
 "nbformat": 4,
 "nbformat_minor": 5
}
