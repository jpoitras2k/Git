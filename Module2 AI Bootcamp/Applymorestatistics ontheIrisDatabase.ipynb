{
 "cells": [
  {
   "cell_type": "markdown",
   "id": "df1c1573",
   "metadata": {},
   "source": [
    "You will now get a better look at the Iris dataset!\n",
    "\n",
    "Your code should perform the following tasks to complete this mission in the editor provided:\n",
    "\n",
    "Calculate the median of all the attributes; sepal length, sepal width, petal length and petal width.\n",
    "Calculate the standard deviation of all the attributes; sepal length, sepal width, petal length and petal width.\n",
    "Your code should return medians and stds; each is a 1D array with 4 values for the sepal length, sepal width, petal length and petal width, respectively.\n",
    "\n",
    "Hint: there are a lot of ways to do this, but you may consider taking a look at the built-in functions median and std in Numpy or Pandas.    "
   ]
  },
  {
   "cell_type": "code",
   "execution_count": 17,
   "id": "a1cc9de5",
   "metadata": {},
   "outputs": [
    {
     "name": "stdout",
     "output_type": "stream",
     "text": [
      "Medians: [5.8  3.   4.35 1.3 ]\n",
      "Standard Deviations: [0.82806613 0.43586628 1.76529823 0.76223767]\n",
      "5.8\n"
     ]
    }
   ],
   "source": [
    "# Load the Iris dataset from the sklearn library\n",
    "from sklearn.datasets import load_iris\n",
    "iris = load_iris()\n",
    "import pandas as pd\n",
    "import numpy as np\n",
    "\n",
    "dataset = pd.DataFrame(iris.data, columns=iris.feature_names)  # Create a pandas DataFrame\n",
    "columns_of_interest = ['sepal length (cm)','sepal width (cm)','petal length (cm)','petal width (cm)']\n",
    "\n",
    "median_values_series = dataset[columns_of_interest].median()  # Calculate Median for each column\n",
    "std_values_series = dataset[columns_of_interest].std()  # Calculate Standard Deviation for each column\n",
    "\n",
    "median_values = median_values_series.to_numpy()\n",
    "std_values = std_values_series.to_numpy()\n",
    "\n",
    "# The arrays contain the values for sepal length, sepal width, petal length, and petal width, respectively.\n",
    "print(f\"Medians: {median_values}\")\n",
    "print(f\"Standard Deviations: {std_values}\")\n",
    "\n",
    "medians = median_values  #Here to match info to the lab\n",
    "stds = std_values      #Here to match info to the lab\n",
    "\n",
    "print(np.max(medians))  #from the lab\n",
    "\n",
    "#return medians, stds\n"
   ]
  }
 ],
 "metadata": {
  "kernelspec": {
   "display_name": ".venv",
   "language": "python",
   "name": "python3"
  },
  "language_info": {
   "codemirror_mode": {
    "name": "ipython",
    "version": 3
   },
   "file_extension": ".py",
   "mimetype": "text/x-python",
   "name": "python",
   "nbconvert_exporter": "python",
   "pygments_lexer": "ipython3",
   "version": "3.14.0"
  }
 },
 "nbformat": 4,
 "nbformat_minor": 5
}
