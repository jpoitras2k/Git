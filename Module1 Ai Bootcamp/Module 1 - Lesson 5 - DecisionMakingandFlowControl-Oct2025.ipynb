{
 "cells": [
  {
   "cell_type": "markdown",
   "id": "85358ef2-dc05-4e27-ade3-bf717092a9a5",
   "metadata": {},
   "source": [
    "<h1><center> Module 1 - Lesson 5 </center></h1>\n",
    "\n",
    "#### Oct 2025: Decision Making and Flow Control: \n",
    "\n",
    "---\n",
    "- if statements\n",
    "- nested if statements\n",
    "- while loops\n",
    "- for loops\n",
    "- nested and single line if statements and loops"
   ]
  },
  {
   "cell_type": "code",
   "execution_count": 7,
   "id": "afaa4e2f-a9bf-452e-aec3-0dc1e1e2f37e",
   "metadata": {},
   "outputs": [
    {
     "name": "stdout",
     "output_type": "stream",
     "text": [
      "Put on a coat!\n",
      "Done!\n"
     ]
    }
   ],
   "source": [
    "# The 'if statement', to check a condition and make a decision\n",
    "\n",
    "weather = \"cold\"\n",
    "\n",
    "if weather == \"cold\" :\n",
    "    print(\"Put on a coat!\")\n",
    "print(\"Done!\")"
   ]
  },
  {
   "cell_type": "code",
   "execution_count": 9,
   "id": "cf8f9fd4-536e-400c-8be0-53ba5db55e2c",
   "metadata": {},
   "outputs": [],
   "source": [
    "if True:\n",
    "    pass"
   ]
  },
  {
   "cell_type": "code",
   "execution_count": 11,
   "id": "ddd3efab-d053-4216-a3d4-cec5088f7ae0",
   "metadata": {},
   "outputs": [
    {
     "name": "stdout",
     "output_type": "stream",
     "text": [
      "Done!\n"
     ]
    }
   ],
   "source": [
    "weather = \"hot\"\n",
    "\n",
    "if weather == \"cold\" :\n",
    "    print(\"Put on a coat!\")\n",
    "print(\"Done!\")"
   ]
  },
  {
   "cell_type": "code",
   "execution_count": 15,
   "id": "f166c5ed-f1d1-4d65-9abc-b791cbe3f7d6",
   "metadata": {},
   "outputs": [
    {
     "name": "stdout",
     "output_type": "stream",
     "text": [
      "Done Finaly!\n"
     ]
    }
   ],
   "source": [
    "weather = \"hot\"\n",
    "\n",
    "if weather == \"cold\" :\n",
    "    print(\"Put on a coat!\")\n",
    "    print(\"Done!\")\n",
    "    print(\"Done!\")\n",
    "    print(\"Done!\")\n",
    "print(\"Done Finaly!\")    "
   ]
  },
  {
   "cell_type": "code",
   "execution_count": 19,
   "id": "9f396da6-b770-4633-b5f9-e21efa5d42eb",
   "metadata": {},
   "outputs": [
    {
     "name": "stdout",
     "output_type": "stream",
     "text": [
      "Put on a hat and sunscreen!\n"
     ]
    }
   ],
   "source": [
    "# If statements for two conditions\n",
    "weather = \"hot\"\n",
    "\n",
    "if weather == \"cold\":\n",
    "    print(\"Put on a coat.\")\n",
    "else:\n",
    "    print(\"Put on a hat and sunscreen!\")"
   ]
  },
  {
   "cell_type": "code",
   "execution_count": 25,
   "id": "3a0b8dfc-9ead-4009-ae70-8c460f0cb8f9",
   "metadata": {},
   "outputs": [
    {
     "name": "stdout",
     "output_type": "stream",
     "text": [
      "Put on a hat and sunscreen!\n"
     ]
    }
   ],
   "source": [
    "# If statements for multiple conditions\n",
    "weather = \"hot\"\n",
    "\n",
    "if weather == \"cold\":\n",
    "    print(\"Put on a coat.\")\n",
    "elif weather == \"hot\":\n",
    "    print(\"Put on a hat and sunscreen!\")     \n",
    "else:\n",
    "    print(\"Have a great day!\")"
   ]
  },
  {
   "cell_type": "code",
   "execution_count": 29,
   "id": "5b8ea1ff-3f6d-4dd5-b0e6-47d4f6bf8877",
   "metadata": {},
   "outputs": [
    {
     "name": "stdout",
     "output_type": "stream",
     "text": [
      "Put on a hat and sunscreen!\n"
     ]
    }
   ],
   "source": [
    "# If statements for multiple conditions\n",
    "weather = \"hot\"\n",
    "\n",
    "if weather == \"cold\":\n",
    "    print(\"Put on a coat.\")\n",
    "elif weather == \"hot\":\n",
    "    print(\"Put on a hat and sunscreen!\")     \n",
    "elif weather == \"raining\":\n",
    "    print(\"Grab an umbrella!\")       "
   ]
  },
  {
   "cell_type": "code",
   "execution_count": 35,
   "id": "6a773c63-909e-45a3-a5c7-66054fdc9b60",
   "metadata": {},
   "outputs": [
    {
     "name": "stdout",
     "output_type": "stream",
     "text": [
      "Put on a hat and sunscreen!\n"
     ]
    }
   ],
   "source": [
    "# If statements for multiple conditions\n",
    "weather = \"cold\"\n",
    "temp = 29\n",
    "\n",
    "if weather == \"cold\" and temp < 14:\n",
    "    print(\"Put on a coat.\")\n",
    "elif weather == \"hot\" or temp > 27:\n",
    "    print(\"Put on a hat and sunscreen!\")     \n",
    "elif weather == \"raining\":\n",
    "    print(\"Grab an umbrella!\")  \n",
    "else:\n",
    "    print(\"Have a great day!\")"
   ]
  },
  {
   "cell_type": "code",
   "execution_count": 41,
   "id": "dc2cbb0b-88c5-43e5-9635-c06fdb5982b1",
   "metadata": {},
   "outputs": [
    {
     "name": "stdout",
     "output_type": "stream",
     "text": [
      "Have a great day!\n"
     ]
    }
   ],
   "source": [
    "# Nesting conditional Statements\n",
    "weather = \"warm\"\n",
    "temp = -45\n",
    "\n",
    "if weather == \"snow\":\n",
    "    if temp <-40:\n",
    "        print(\"Put on a coat AND cancel the school busses!\")\n",
    "    else:\n",
    "        print(\"Put on a coat!\")\n",
    "elif weather == \"hot\" or temp > 27:\n",
    "    print(\"Put on a hat and sunscreen!\")     \n",
    "elif weather == \"raining\":\n",
    "    print(\"Grab an umbrella!\")  \n",
    "else:\n",
    "    print(\"Have a great day!\")       "
   ]
  },
  {
   "cell_type": "code",
   "execution_count": 49,
   "id": "78cb29c8-6a0f-440e-9f5b-864d97ff09db",
   "metadata": {},
   "outputs": [],
   "source": [
    "# If statements MUST have a code block\n",
    "\n",
    "a = 2\n",
    "b = 10\n",
    "\n",
    "if a > 0 and b < 10:\n",
    "    pass"
   ]
  },
  {
   "cell_type": "markdown",
   "id": "613cb410-511e-4e63-aeb8-946b85d82adb",
   "metadata": {},
   "source": [
    "## Loops"
   ]
  },
  {
   "cell_type": "code",
   "execution_count": 54,
   "id": "51dfdf35-3104-47e6-8c71-b4e3a56fb550",
   "metadata": {},
   "outputs": [
    {
     "name": "stdout",
     "output_type": "stream",
     "text": [
      "0\n",
      "1\n",
      "2\n",
      "3\n",
      "4\n"
     ]
    }
   ],
   "source": [
    "# While loops\n",
    "\n",
    "i = 0 # increment\n",
    "\n",
    "while i < 5 :\n",
    "    print(i)\n",
    "    i += 1\n"
   ]
  },
  {
   "cell_type": "code",
   "execution_count": 56,
   "id": "83ce3d99-7f14-4a55-bb12-b9a56781ca6c",
   "metadata": {},
   "outputs": [
    {
     "name": "stdout",
     "output_type": "stream",
     "text": [
      "0\n",
      "1\n",
      "2\n",
      "3\n",
      "4\n",
      "Exited while loop!\n"
     ]
    }
   ],
   "source": [
    "# While loops\n",
    "\n",
    "i = 0 # increment\n",
    "\n",
    "while i < 5 :\n",
    "    print(i)\n",
    "    i += 1\n",
    "else: \n",
    "    print(\"Exited while loop!\")"
   ]
  },
  {
   "cell_type": "code",
   "execution_count": 68,
   "id": "f9f026d6-bee8-4e2f-bbc0-91cbe9ea8b50",
   "metadata": {},
   "outputs": [
    {
     "name": "stdout",
     "output_type": "stream",
     "text": [
      "1\n",
      "New sum = 1\n",
      "2\n",
      "New sum = 3\n",
      "3\n",
      "New sum = 6\n"
     ]
    }
   ],
   "source": [
    "# For Loops\n",
    "\n",
    "_sum = 0\n",
    "\n",
    "for z in [1,2,3] :\n",
    "    print(z)\n",
    "    _sum = _sum + z\n",
    "    print(\"New sum =\", _sum)\n"
   ]
  },
  {
   "cell_type": "code",
   "execution_count": 72,
   "id": "42c9da55-65fc-482a-96a3-f82b8a77365c",
   "metadata": {
    "collapsed": true,
    "jupyter": {
     "outputs_hidden": true
    }
   },
   "outputs": [
    {
     "name": "stdout",
     "output_type": "stream",
     "text": [
      "0\n",
      "2\n",
      "4\n"
     ]
    }
   ],
   "source": [
    "for z in range(0,6, 2):\n",
    "    print(z)"
   ]
  },
  {
   "cell_type": "code",
   "execution_count": 82,
   "id": "30c058bf-8f13-4640-8451-4ab341912d06",
   "metadata": {},
   "outputs": [
    {
     "name": "stdout",
     "output_type": "stream",
     "text": [
      "0\n",
      "2\n",
      "4\n",
      "6\n",
      "8\n",
      "10\n"
     ]
    }
   ],
   "source": [
    "for z in range(0,11,2):\n",
    "    print(z)\n",
    "    for y in range(5,26, 5):\n",
    "        print(y)"
   ]
  },
  {
   "cell_type": "code",
   "execution_count": 92,
   "id": "e455c80b-d5a9-46b3-adf8-b193957be480",
   "metadata": {},
   "outputs": [
    {
     "name": "stdout",
     "output_type": "stream",
     "text": [
      "0\n",
      "2\n",
      "4\n",
      "Done!\n"
     ]
    }
   ],
   "source": [
    "for z in range(0,6, 2 ): # (starting num, top range number, increment amount)\n",
    "    print(z)\n",
    "else:\n",
    "    print(\"Done!\")"
   ]
  },
  {
   "cell_type": "code",
   "execution_count": 84,
   "id": "8e3d714f-ddd9-44fa-ac93-12cea713cadf",
   "metadata": {},
   "outputs": [
    {
     "name": "stdout",
     "output_type": "stream",
     "text": [
      "j greater than k\n"
     ]
    }
   ],
   "source": [
    "# Single line if statement\n",
    "j = 1\n",
    "k = 2\n",
    "\n",
    "print(\"j is less than k\") if j > k else print(\"j greater than k\")"
   ]
  }
 ],
 "metadata": {
  "kernelspec": {
   "display_name": "Python [conda env:base] *",
   "language": "python",
   "name": "conda-base-py"
  },
  "language_info": {
   "codemirror_mode": {
    "name": "ipython",
    "version": 3
   },
   "file_extension": ".py",
   "mimetype": "text/x-python",
   "name": "python",
   "nbconvert_exporter": "python",
   "pygments_lexer": "ipython3",
   "version": "3.9.17"
  }
 },
 "nbformat": 4,
 "nbformat_minor": 5
}
