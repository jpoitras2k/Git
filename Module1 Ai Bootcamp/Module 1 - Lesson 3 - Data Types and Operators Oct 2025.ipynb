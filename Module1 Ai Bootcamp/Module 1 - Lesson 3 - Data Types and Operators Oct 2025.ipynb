{
 "cells": [
  {
   "cell_type": "markdown",
   "id": "aaffdf9a-0627-42de-b0b4-8297c2a643b0",
   "metadata": {},
   "source": [
    "<h1><center> Module 1 - Lesson 3 - Python Data Types and Operators </center></h1>\n",
    "\n",
    "#### An Introduction: \n",
    "\n",
    "---\n",
    "- Python Data Types (What kind of information can we work with?)\n",
    "- Python Operators  (What can we do with information?)\n",
    "\n",
    "Content from - Python Basics: Python Data Types Mission"
   ]
  },
  {
   "cell_type": "code",
   "execution_count": 3,
   "id": "a20180cd-2a1f-4bbf-a545-8dee931dead4",
   "metadata": {},
   "outputs": [],
   "source": [
    "# Can assign different types of data to variables:\n",
    "\n",
    "a = 10 # Integer (10 digits, -2,147,483,648 to 2,147,483,647 because 32 bits max\n",
    "b = 3.14159 # float\n",
    "c = 123455555567899999999 # hold up to 64 bits\n",
    "d = 5 + 2j # complex numbers\n",
    "\n",
    "#Booleans\n",
    "h = True\n",
    "j = False"
   ]
  },
  {
   "cell_type": "code",
   "execution_count": 4,
   "id": "5b61f76f-78e8-4835-8ae1-e269f2250028",
   "metadata": {},
   "outputs": [
    {
     "data": {
      "text/plain": [
       "bool"
      ]
     },
     "execution_count": 4,
     "metadata": {},
     "output_type": "execute_result"
    }
   ],
   "source": [
    "# Check what type of data the variable holds\n",
    "type(h)"
   ]
  },
  {
   "cell_type": "code",
   "execution_count": 5,
   "id": "06233729-b952-4253-b28c-4d107767d22f",
   "metadata": {},
   "outputs": [
    {
     "name": "stdout",
     "output_type": "stream",
     "text": [
      "Variable               Type        Data/Info\n",
      "--------------------------------------------\n",
      "a                      int         10\n",
      "b                      float       3.14159\n",
      "c                      int         123455555567899999999\n",
      "d                      complex     (5+2j)\n",
      "dataframe_columns      function    <function dataframe_colum<...>ns at 0x000001DA1D122EE0>\n",
      "dataframe_hash         function    <function dataframe_hash at 0x000001DA1F44C0D0>\n",
      "dtypes_str             function    <function dtypes_str at 0x000001DA1F44C040>\n",
      "get_dataframes         function    <function get_dataframes at 0x000001DA1F44C160>\n",
      "getpass                module      <module 'getpass' from 'C<...>conda3\\\\lib\\\\getpass.py'>\n",
      "h                      bool        True\n",
      "hashlib                module      <module 'hashlib' from 'C<...>conda3\\\\lib\\\\hashlib.py'>\n",
      "import_pandas_safely   function    <function import_pandas_s<...>ly at 0x000001DA1F44CD30>\n",
      "is_data_frame          function    <function is_data_frame at 0x000001DA1D1229D0>\n",
      "j                      bool        False\n",
      "json                   module      <module 'json' from 'C:\\\\<...>\\lib\\\\json\\\\__init__.py'>\n"
     ]
    }
   ],
   "source": [
    "# Execute a 'Magic Command' to see a list of active variables in the kernel\n",
    "%whos"
   ]
  },
  {
   "cell_type": "markdown",
   "id": "0c07d9d0-5dc6-40a1-ad08-028b49d98c68",
   "metadata": {},
   "source": [
    "### Strings"
   ]
  },
  {
   "cell_type": "code",
   "execution_count": 7,
   "id": "24905d55-5e3b-4958-a295-cf72259b7565",
   "metadata": {},
   "outputs": [
    {
     "name": "stdout",
     "output_type": "stream",
     "text": [
      "string variable\n"
     ]
    }
   ],
   "source": [
    "e = \"string variable\"\n",
    "\n",
    "print(e)"
   ]
  },
  {
   "cell_type": "code",
   "execution_count": 8,
   "id": "7ecfeb36-855b-4b8a-81b7-61232fb47dc0",
   "metadata": {},
   "outputs": [
    {
     "data": {
      "text/plain": [
       "str"
      ]
     },
     "execution_count": 8,
     "metadata": {},
     "output_type": "execute_result"
    }
   ],
   "source": [
    "f = \"two\"\n",
    "type(f)"
   ]
  },
  {
   "cell_type": "code",
   "execution_count": 9,
   "id": "f9a6c58a-64ca-469f-b034-b8ca2f9f577f",
   "metadata": {},
   "outputs": [
    {
     "data": {
      "text/plain": [
       "str"
      ]
     },
     "execution_count": 9,
     "metadata": {},
     "output_type": "execute_result"
    }
   ],
   "source": [
    "f = \"2\"\n",
    "type(f)"
   ]
  },
  {
   "cell_type": "markdown",
   "id": "b557fd2c-f739-454b-9618-0629a58098d2",
   "metadata": {},
   "source": [
    "### Lists"
   ]
  },
  {
   "cell_type": "code",
   "execution_count": 11,
   "id": "d92c8a94-557e-41d8-8fe4-99d8d1aa8821",
   "metadata": {},
   "outputs": [
    {
     "name": "stdout",
     "output_type": "stream",
     "text": [
      "[1, 2, 3, 4, 5]\n"
     ]
    }
   ],
   "source": [
    "myList =  [1,2,3,4,5]\n",
    "print(myList)"
   ]
  },
  {
   "cell_type": "code",
   "execution_count": 12,
   "id": "741dbaa8-8541-44e4-ad33-17f379ff2433",
   "metadata": {},
   "outputs": [
    {
     "name": "stdout",
     "output_type": "stream",
     "text": [
      "[1, \"'2\", 3.14159, 4, 5]\n"
     ]
    }
   ],
   "source": [
    "myList = [1,\"'2\",3.14159,4,5]\n",
    "print(myList)"
   ]
  },
  {
   "cell_type": "code",
   "execution_count": 13,
   "id": "afa87651-2644-46c8-8851-b9eca6b708bf",
   "metadata": {},
   "outputs": [
    {
     "data": {
      "text/plain": [
       "1"
      ]
     },
     "execution_count": 13,
     "metadata": {},
     "output_type": "execute_result"
    }
   ],
   "source": [
    "myList[0]"
   ]
  },
  {
   "cell_type": "code",
   "execution_count": 14,
   "id": "ea06a039-1cd9-4efe-b9e8-f272818c3c8a",
   "metadata": {},
   "outputs": [
    {
     "data": {
      "text/plain": [
       "[1, \"'2\"]"
      ]
     },
     "execution_count": 14,
     "metadata": {},
     "output_type": "execute_result"
    }
   ],
   "source": [
    "myList[0:2]"
   ]
  },
  {
   "cell_type": "code",
   "execution_count": 15,
   "id": "5abfecde-4873-4bb5-a677-e6c90891926f",
   "metadata": {},
   "outputs": [
    {
     "data": {
      "text/plain": [
       "[1, \"'2\", 'Pi', 4, 5]"
      ]
     },
     "execution_count": 15,
     "metadata": {},
     "output_type": "execute_result"
    }
   ],
   "source": [
    "myList[2] = \"Pi\"\n",
    "myList"
   ]
  },
  {
   "cell_type": "markdown",
   "id": "3f2a6b56-267f-4262-96a7-cd261a7c86bb",
   "metadata": {},
   "source": [
    "### Tuples"
   ]
  },
  {
   "cell_type": "code",
   "execution_count": 17,
   "id": "9211a267-a0ae-4197-80b5-49c4d9d726d2",
   "metadata": {},
   "outputs": [
    {
     "name": "stdout",
     "output_type": "stream",
     "text": [
      "(2, 'John', 3.14)\n"
     ]
    }
   ],
   "source": [
    "myTuple = ( 2, \"John\", 3.14)\n",
    "print(myTuple)"
   ]
  },
  {
   "cell_type": "code",
   "execution_count": 18,
   "id": "a4b6b8cd-932b-4708-9d42-1d5959af4a22",
   "metadata": {},
   "outputs": [],
   "source": [
    "# myTuple[2] = \"Pi\" $ Tuples are immutable, can't change elements once created!"
   ]
  },
  {
   "cell_type": "code",
   "execution_count": 19,
   "id": "5250e321-36e8-4f4d-af37-8e30bc91794c",
   "metadata": {},
   "outputs": [
    {
     "data": {
      "text/plain": [
       "(2, 'John', 'Pi')"
      ]
     },
     "execution_count": 19,
     "metadata": {},
     "output_type": "execute_result"
    }
   ],
   "source": [
    "myTuple = ( 2, \"John\", \"Pi\")\n",
    "myTuple"
   ]
  },
  {
   "cell_type": "markdown",
   "id": "8aaf857b-11a2-4f87-ad88-f0c87405ad4c",
   "metadata": {},
   "source": [
    "### Dictionary\n",
    "Comprised of a series of key : value pairs\n",
    "<br> and is a structured way to store data"
   ]
  },
  {
   "cell_type": "code",
   "execution_count": 21,
   "id": "c14f67b7-1fa0-4ef9-b6a9-9ac53e466f9f",
   "metadata": {},
   "outputs": [
    {
     "data": {
      "text/plain": [
       "{'A': 'apples', 'B': 'bananas'}"
      ]
     },
     "execution_count": 21,
     "metadata": {},
     "output_type": "execute_result"
    }
   ],
   "source": [
    "dt = {      }\n",
    "\n",
    "dt[\"A\"] = \"apples\"\n",
    "dt[\"B\"] = \"bananas\"\n",
    "\n",
    "dt"
   ]
  },
  {
   "cell_type": "code",
   "execution_count": 22,
   "id": "f3bb4b84-3c87-4b9d-96ae-7c44f8d399a8",
   "metadata": {},
   "outputs": [
    {
     "data": {
      "text/plain": [
       "dict_keys(['A', 'B'])"
      ]
     },
     "execution_count": 22,
     "metadata": {},
     "output_type": "execute_result"
    }
   ],
   "source": [
    "# Retrieve all the keys\n",
    "dt.keys()"
   ]
  },
  {
   "cell_type": "code",
   "execution_count": 23,
   "id": "539ec987-2780-4897-88ba-760aa81dd2d7",
   "metadata": {},
   "outputs": [
    {
     "data": {
      "text/plain": [
       "dict_values(['apples', 'bananas'])"
      ]
     },
     "execution_count": 23,
     "metadata": {},
     "output_type": "execute_result"
    }
   ],
   "source": [
    "# Retrieve all the values\n",
    "dt.values()"
   ]
  },
  {
   "cell_type": "code",
   "execution_count": 24,
   "id": "bdbf6e37-b795-4986-b0c0-56f36ee51e3a",
   "metadata": {},
   "outputs": [],
   "source": [
    "# We'll spend more time on dictionaries in a future lesson!"
   ]
  },
  {
   "cell_type": "markdown",
   "id": "cc78dc29-218e-454c-ba8e-329b542549b0",
   "metadata": {},
   "source": [
    "#### Operators"
   ]
  },
  {
   "cell_type": "code",
   "execution_count": 26,
   "id": "80cc376b-638f-44f8-8c31-797656ddf098",
   "metadata": {},
   "outputs": [
    {
     "data": {
      "text/plain": [
       "2"
      ]
     },
     "execution_count": 26,
     "metadata": {},
     "output_type": "execute_result"
    }
   ],
   "source": [
    "# Arithmetic Operators (Calculator buttons!)\n",
    "\n",
    "sum_numbers = 1 + 1\n",
    "sum_numbers"
   ]
  },
  {
   "cell_type": "code",
   "execution_count": 27,
   "id": "a97ed334-f806-46dd-9cb5-1c7bbfc88157",
   "metadata": {},
   "outputs": [
    {
     "data": {
      "text/plain": [
       "7.5"
      ]
     },
     "execution_count": 27,
     "metadata": {},
     "output_type": "execute_result"
    }
   ],
   "source": [
    "30 / 4"
   ]
  },
  {
   "cell_type": "code",
   "execution_count": 28,
   "id": "2de9d2f2-9ac3-4c3d-b0b3-6b5ace9b47ae",
   "metadata": {},
   "outputs": [
    {
     "name": "stdout",
     "output_type": "stream",
     "text": [
      "7\n"
     ]
    }
   ],
   "source": [
    "# Floor Division\n",
    "floorDiv = 30 // 4\n",
    "print(floorDiv)"
   ]
  },
  {
   "cell_type": "code",
   "execution_count": 29,
   "id": "3c9375c6-2fe8-45f7-be51-3fa062aac09a",
   "metadata": {},
   "outputs": [
    {
     "name": "stdout",
     "output_type": "stream",
     "text": [
      "2\n"
     ]
    }
   ],
   "source": [
    "# Modulus\n",
    "modulusDiv = 30 % 4\n",
    "print(modulusDiv)"
   ]
  },
  {
   "cell_type": "code",
   "execution_count": 30,
   "id": "409b37c3-92d4-437b-866d-41dda0d76de4",
   "metadata": {},
   "outputs": [
    {
     "name": "stdout",
     "output_type": "stream",
     "text": [
      "x += 2: 2\n"
     ]
    }
   ],
   "source": [
    "# Assignment Operators\n",
    "x = 0\n",
    "# x = x + 2\n",
    "x += 2\n",
    "\n",
    "print (\"x += 2:\", x)"
   ]
  },
  {
   "cell_type": "markdown",
   "id": "1913e862-0de4-4df9-abe3-d81446986523",
   "metadata": {},
   "source": [
    "### Comparison Operators"
   ]
  },
  {
   "cell_type": "code",
   "execution_count": 32,
   "id": "c2799feb-3c25-460e-aecc-94d4bf516838",
   "metadata": {},
   "outputs": [
    {
     "data": {
      "text/plain": [
       "True"
      ]
     },
     "execution_count": 32,
     "metadata": {},
     "output_type": "execute_result"
    }
   ],
   "source": [
    "a = c = 10\n",
    "b = 2\n",
    "\n",
    "a == c"
   ]
  },
  {
   "cell_type": "code",
   "execution_count": 33,
   "id": "48ba0a5e-cc97-4342-aea3-67af3c40a2d5",
   "metadata": {},
   "outputs": [
    {
     "data": {
      "text/plain": [
       "False"
      ]
     },
     "execution_count": 33,
     "metadata": {},
     "output_type": "execute_result"
    }
   ],
   "source": [
    "a != c"
   ]
  },
  {
   "cell_type": "code",
   "execution_count": 34,
   "id": "1964d526-3558-4ada-83e7-c7f910c64cd4",
   "metadata": {},
   "outputs": [
    {
     "data": {
      "text/plain": [
       "True"
      ]
     },
     "execution_count": 34,
     "metadata": {},
     "output_type": "execute_result"
    }
   ],
   "source": [
    "#What's the difference?\n",
    "# > or >=\n",
    "\n",
    "a <= c"
   ]
  },
  {
   "cell_type": "code",
   "execution_count": 35,
   "id": "360b7c70-cc20-487b-b65d-6d04aaf8ec0d",
   "metadata": {},
   "outputs": [
    {
     "data": {
      "text/plain": [
       "True"
      ]
     },
     "execution_count": 35,
     "metadata": {},
     "output_type": "execute_result"
    }
   ],
   "source": [
    "# Can combine Comparison Operators with AND, OR\n",
    "\n",
    "a > b or c > b"
   ]
  },
  {
   "cell_type": "code",
   "execution_count": 36,
   "id": "51df7b02-680c-44d9-ab3f-29bc3bf70f85",
   "metadata": {},
   "outputs": [
    {
     "data": {
      "text/plain": [
       "True"
      ]
     },
     "execution_count": 36,
     "metadata": {},
     "output_type": "execute_result"
    }
   ],
   "source": [
    "a > b and a == c or a > 100"
   ]
  },
  {
   "cell_type": "code",
   "execution_count": 37,
   "id": "0edb5cba-73f4-4c18-be50-391077faaa6a",
   "metadata": {},
   "outputs": [
    {
     "name": "stdout",
     "output_type": "stream",
     "text": [
      "True\n",
      "False\n"
     ]
    }
   ],
   "source": [
    "# Use membership to look for values within another\n",
    "a = 10\n",
    "b = 12\n",
    "\n",
    "ls = [a, b, \"hello\"]\n",
    "\n",
    "print(\"hello\" in ls)\n",
    "print(\"hello\" not in ls)"
   ]
  },
  {
   "cell_type": "code",
   "execution_count": 38,
   "id": "ee3b128c-73e8-4179-860c-56fa1781ce1c",
   "metadata": {},
   "outputs": [
    {
     "name": "stdout",
     "output_type": "stream",
     "text": [
      "a is b: True\n",
      "id(a)==id(c): False\n"
     ]
    }
   ],
   "source": [
    "# Use Identity operators to compare digital identity (address)\n",
    "a= 10\n",
    "b= 10\n",
    "c= 4 \n",
    "\n",
    "print(\"a is b:\", a is b)\n",
    "print(\"id(a)==id(c):\", id(a)==id(c))"
   ]
  },
  {
   "cell_type": "markdown",
   "id": "50503ba4-78df-4935-b8d2-24a8e7da776e",
   "metadata": {},
   "source": [
    "### Bitwise Operators"
   ]
  },
  {
   "cell_type": "code",
   "execution_count": 40,
   "id": "db858be8-0a72-4205-9d81-398877590851",
   "metadata": {},
   "outputs": [
    {
     "data": {
      "text/plain": [
       "1"
      ]
     },
     "execution_count": 40,
     "metadata": {},
     "output_type": "execute_result"
    }
   ],
   "source": [
    "'''\n",
    "The Bitwise and (&) operator combines the bits of two numbers at\n",
    "corresponding positions. The result of the bitwise AND operation \n",
    "is a new number where each bit is set to 1 only \n",
    "if the corresponding bits in both input numbers are also 1; \n",
    "otherwise, it is set to 0.\n",
    "\n",
    "    1   (binary: 0001)\n",
    "    1   (binary: 0001)\n",
    "---------------------\n",
    "   1    (binary: 0001)\n",
    "'''\n",
    "\n",
    "a = 1\n",
    "b = 1\n",
    "\n",
    "a & b"
   ]
  },
  {
   "cell_type": "code",
   "execution_count": 41,
   "id": "09fabf04-f7f0-4240-a00f-b575b52a1e11",
   "metadata": {},
   "outputs": [
    {
     "data": {
      "text/plain": [
       "3"
      ]
     },
     "execution_count": 41,
     "metadata": {},
     "output_type": "execute_result"
    }
   ],
   "source": [
    "'''The Bitwise or (|) operator combines the bits of two numbers at c\n",
    "orresponding positions. The result of the bitwise OR operation \n",
    "is a new number where each bit is set to 1 either\n",
    "of the corresponding bits in both input numbers are 1; \n",
    "otherwise, it is set to 0.\n",
    "\n",
    "    1   (binary: 0001)\n",
    "    2   (binary: 0010)\n",
    "---------------------\n",
    "    3   (binary: 0011)\n",
    "'''\n",
    "\n",
    "a = 1\n",
    "b = 2\n",
    "\n",
    "a | b"
   ]
  },
  {
   "cell_type": "code",
   "execution_count": 42,
   "id": "77e5ec9c-9d9a-40da-ab88-6e94d9cf4dae",
   "metadata": {},
   "outputs": [
    {
     "name": "stdout",
     "output_type": "stream",
     "text": [
      "13\n"
     ]
    }
   ],
   "source": [
    "'''The Bitwise XOR (^) binary operator that performs \n",
    "the exclusive disjunction of the bits at corresponding \n",
    "positions in two numbers. The result of the XOR operation \n",
    "is a new number where each bit is set to 1 \n",
    "if the corresponding bits in the input numbers are different, \n",
    "and it is set to 0 if the bits are the same.\n",
    "\n",
    "XOR is used in code for things like swapping values, detecting odd \n",
    "occurances, and encoding data! \n",
    "\n",
    "For example,\n",
    "    15  (binary: 1111)\n",
    "^   2   (binary: 0010)\n",
    "---------------------\n",
    "    13  (binary: 1101)\n",
    "'''\n",
    "\n",
    "\n",
    "a = 15\n",
    "b = 2\n",
    "\n",
    "result = a ^ b\n",
    "print(result)"
   ]
  }
 ],
 "metadata": {
  "kernelspec": {
   "display_name": "Python [conda env:base] *",
   "language": "python",
   "name": "conda-base-py"
  },
  "language_info": {
   "codemirror_mode": {
    "name": "ipython",
    "version": 3
   },
   "file_extension": ".py",
   "mimetype": "text/x-python",
   "name": "python",
   "nbconvert_exporter": "python",
   "pygments_lexer": "ipython3",
   "version": "3.9.17"
  }
 },
 "nbformat": 4,
 "nbformat_minor": 5
}
