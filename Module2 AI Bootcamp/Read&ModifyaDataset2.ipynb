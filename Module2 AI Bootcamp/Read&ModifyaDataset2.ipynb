{
 "cells": [
  {
   "cell_type": "markdown",
   "id": "840f079a",
   "metadata": {},
   "source": [
    "You will need to load the Mushrooms dataset. \n",
    "\n",
    "You need to code the following tasks to complete this Mission in the editor provided:\n",
    "\n",
    "Load the Mushroom dataset from mushrooms.csv.\n",
    "Extract data tuple with index 9 and its target (including the class as its first element).\n",
    "Find out whether or not the mushroom with index 9 is edible or not.\n",
    "Your code should return one Boolean value edible.\n",
    "\n",
    "Re-visit the Mushrooms dataset, here.\n",
    "\n",
    "HINT: You can index pandas.DataFrame with column names and the edible/poisonous classification is in a column called class."
   ]
  },
  {
   "cell_type": "code",
   "execution_count": 4,
   "id": "80ff0194",
   "metadata": {},
   "outputs": [
    {
     "name": "stdout",
     "output_type": "stream",
     "text": [
      "Data tuple for index 9 (including class): ('e', 'b', 's', 'y', 't', 'a', 'f', 'c', 'b', 'g', 'e', 'c', 's', 's', 'w', 'w', 'p', 'w', 'o', 'p', 'k', 's', 'm')\n",
      "Mushroom at index 9 is edible: True\n",
      "True\n"
     ]
    }
   ],
   "source": [
    "# Importing the pandas library, import Mushroom dataset, and checking if the mushroom at index 9 is edible Return Boolean Value \n",
    "\n",
    "import pandas as pd\n",
    "\n",
    "dataset= pd.read_csv(\"mushrooms.csv\") \n",
    "\n",
    "# The .iloc[9] selects the 10th row (since index starts at 0)\n",
    "mushroom_data_tuple = tuple(dataset.iloc[9])\n",
    "\n",
    "# # Filter on a column\n",
    "dataset = dataset[dataset['class'] == \"e\"]\n",
    "num_edible = len(dataset)\n",
    "#Find out whether or not the mushroom with index 9 is edible or not. The 'class' column contains 'e' for edible and 'p' for poisonous.\n",
    "num_label = dataset.iloc[9]['class']\n",
    "\n",
    "#Determine edibility as a Boolean value. \n",
    "edible = (num_label == 'e') \n",
    "\n",
    "print(f\"Data tuple for index 9 (including class): {mushroom_data_tuple}\")\n",
    "print(f\"Mushroom at index 9 is edible: {edible}\")\n",
    "\n",
    "print(edible)\n"
   ]
  }
 ],
 "metadata": {
  "kernelspec": {
   "display_name": ".venv",
   "language": "python",
   "name": "python3"
  },
  "language_info": {
   "codemirror_mode": {
    "name": "ipython",
    "version": 3
   },
   "file_extension": ".py",
   "mimetype": "text/x-python",
   "name": "python",
   "nbconvert_exporter": "python",
   "pygments_lexer": "ipython3",
   "version": "3.14.0"
  }
 },
 "nbformat": 4,
 "nbformat_minor": 5
}
