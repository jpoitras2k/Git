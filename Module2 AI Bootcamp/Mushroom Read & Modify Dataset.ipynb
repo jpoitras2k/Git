{
 "cells": [
  {
   "cell_type": "code",
   "execution_count": 7,
   "id": "d0319819",
   "metadata": {},
   "outputs": [
    {
     "name": "stdout",
     "output_type": "stream",
     "text": [
      "0       False\n",
      "1        True\n",
      "2        True\n",
      "3       False\n",
      "4        True\n",
      "        ...  \n",
      "8119     True\n",
      "8120     True\n",
      "8121     True\n",
      "8122    False\n",
      "8123     True\n",
      "Name: class, Length: 8124, dtype: bool\n"
     ]
    }
   ],
   "source": [
    "# Importing the pandas library, import Mushroom dataset, and checking if the mushroom at index 7 is edible\n",
    "\n",
    "import pandas as pd\n",
    "\n",
    "dataset= pd.read_csv(\"mushrooms.csv\") \n",
    "mushroom_at_index_7 = dataset.iloc[:, 0:7]\n",
    "#print(mushroom_at_index_7)\n",
    "edible = mushroom_at_index_7['class'] == 'e'\n",
    "print(edible)\n",
    "\n"
   ]
  }
 ],
 "metadata": {
  "kernelspec": {
   "display_name": ".venv",
   "language": "python",
   "name": "python3"
  },
  "language_info": {
   "codemirror_mode": {
    "name": "ipython",
    "version": 3
   },
   "file_extension": ".py",
   "mimetype": "text/x-python",
   "name": "python",
   "nbconvert_exporter": "python",
   "pygments_lexer": "ipython3",
   "version": "3.14.0"
  }
 },
 "nbformat": 4,
 "nbformat_minor": 5
}
