{
 "cells": [
  {
   "cell_type": "markdown",
   "id": "6574b2d9-a613-45ab-b0a4-635fcb8857ac",
   "metadata": {},
   "source": [
    "<h1><center> Module 1 - Lesson 2 - Python Basics </center></h1>\n",
    "\n",
    "#### An Introduction: \n",
    "\n",
    "---\n",
    "- Python Syntax (Indentation)\n",
    "- Commenting"
   ]
  },
  {
   "cell_type": "code",
   "execution_count": 2,
   "id": "b70afc2c-a620-4a2a-bbf5-118e7e713563",
   "metadata": {},
   "outputs": [
    {
     "name": "stdout",
     "output_type": "stream",
     "text": [
      "Welcome!\n"
     ]
    }
   ],
   "source": [
    "print(\"Welcome!\")"
   ]
  },
  {
   "cell_type": "markdown",
   "id": "38d0bf7d-cbcf-4101-ba2b-144eb98421be",
   "metadata": {},
   "source": [
    "### Indentation"
   ]
  },
  {
   "cell_type": "code",
   "execution_count": 4,
   "id": "bb1398d8-701b-42da-84c4-afe1e89dc98f",
   "metadata": {},
   "outputs": [
    {
     "name": "stdout",
     "output_type": "stream",
     "text": [
      "Done!\n"
     ]
    }
   ],
   "source": [
    "if True:\n",
    "    pass\n",
    "else:\n",
    "    pass\n",
    "\n",
    "print(\"Done!\")    "
   ]
  },
  {
   "cell_type": "code",
   "execution_count": 5,
   "id": "bf6e6968-0685-4bb6-9d32-dad0d21f653c",
   "metadata": {},
   "outputs": [
    {
     "name": "stdout",
     "output_type": "stream",
     "text": [
      "Welcome!\n",
      "To Class!\n"
     ]
    },
    {
     "data": {
      "text/plain": [
       "(None, None)"
      ]
     },
     "execution_count": 5,
     "metadata": {},
     "output_type": "execute_result"
    }
   ],
   "source": [
    "print(\"Welcome!\"), print(\"To Class!\")"
   ]
  },
  {
   "cell_type": "code",
   "execution_count": 6,
   "id": "9f378e30-2784-4981-955d-ec471cafd1ae",
   "metadata": {},
   "outputs": [
    {
     "name": "stdout",
     "output_type": "stream",
     "text": [
      "Welcome\n",
      "To Class!\n"
     ]
    }
   ],
   "source": [
    "print(\"Welcome\")\n",
    "print(\"To Class!\")"
   ]
  },
  {
   "cell_type": "markdown",
   "id": "52b2ec7b-1e8c-476b-aa63-8fd94905fa55",
   "metadata": {},
   "source": [
    "### Quotation Marks"
   ]
  },
  {
   "cell_type": "code",
   "execution_count": 8,
   "id": "6a4e1c61-439d-4927-a72d-dc2ce7a985ba",
   "metadata": {},
   "outputs": [
    {
     "name": "stdout",
     "output_type": "stream",
     "text": [
      "Hello\n",
      "Hello\n",
      "Hello\n",
      "Hello Everyone!\n"
     ]
    }
   ],
   "source": [
    "print('Hello')\n",
    "print(\"Hello\")\n",
    "\n",
    "print('''Hello''')\n",
    "print(\"\"\"Hello Everyone!\"\"\")"
   ]
  },
  {
   "cell_type": "code",
   "execution_count": 9,
   "id": "5159a32f-420a-4248-b502-6ac3f29ba13b",
   "metadata": {},
   "outputs": [
    {
     "name": "stdout",
     "output_type": "stream",
     "text": [
      "hello everyone\n",
      "I hope you are well. \n",
      "Welcome to Robogarden course\n"
     ]
    }
   ],
   "source": [
    "print('''hello everyone\n",
    "I hope you are well. \n",
    "Welcome to Robogarden course''')"
   ]
  },
  {
   "cell_type": "code",
   "execution_count": 10,
   "id": "bff0a5b3-2f7e-4e5c-9b68-06d074eb468d",
   "metadata": {},
   "outputs": [
    {
     "name": "stdout",
     "output_type": "stream",
     "text": [
      "Let's learn ML!\n"
     ]
    }
   ],
   "source": [
    "print(\"Let's learn ML!\")"
   ]
  },
  {
   "cell_type": "code",
   "execution_count": 11,
   "id": "fade1329-4124-4c96-bf15-3c23d8780079",
   "metadata": {},
   "outputs": [
    {
     "name": "stdout",
     "output_type": "stream",
     "text": [
      "Let's learn ML!\n"
     ]
    }
   ],
   "source": [
    "print(\"Let\\'s learn ML!\")"
   ]
  },
  {
   "cell_type": "code",
   "execution_count": 12,
   "id": "8c9b1441-7856-4d45-9757-30a12ed1af2c",
   "metadata": {},
   "outputs": [
    {
     "name": "stdout",
     "output_type": "stream",
     "text": [
      "2\n"
     ]
    }
   ],
   "source": [
    "print(2)"
   ]
  },
  {
   "cell_type": "code",
   "execution_count": 13,
   "id": "96d7ee87-1da6-46ad-92f2-81ed5c0616a6",
   "metadata": {},
   "outputs": [
    {
     "name": "stdout",
     "output_type": "stream",
     "text": [
      "2\n"
     ]
    }
   ],
   "source": [
    "print(\"2\")"
   ]
  },
  {
   "cell_type": "markdown",
   "id": "406f6dbc-cb9c-4d8d-a8fc-916e27d95efd",
   "metadata": {},
   "source": [
    "### Commenting Code\n",
    "- Allows you to not execute a line of code in a working file\n",
    "- Organize the work! For myself, or others!\n",
    "- During debugging process\n",
    "- To explain functions (or classes and methods to others)\n",
    "- Reference intent!\n",
    "- Help track changes.\n",
    "- Helps make our code more understandable\n",
    "- Provide background information"
   ]
  },
  {
   "cell_type": "code",
   "execution_count": 15,
   "id": "382d8654-c912-4656-b20a-b616eb07e89c",
   "metadata": {},
   "outputs": [
    {
     "name": "stdout",
     "output_type": "stream",
     "text": [
      "Hi\n"
     ]
    }
   ],
   "source": [
    "print(\"Hi\") # This is an inline comment"
   ]
  },
  {
   "cell_type": "code",
   "execution_count": 16,
   "id": "8ac3f097-c13c-4892-b284-86b8fc16be57",
   "metadata": {},
   "outputs": [
    {
     "name": "stdout",
     "output_type": "stream",
     "text": [
      "how to comment\n"
     ]
    }
   ],
   "source": [
    "# This is a standalone comment\n",
    "##############  New Section ###########\n",
    "print(\"how to comment\")"
   ]
  },
  {
   "cell_type": "code",
   "execution_count": 17,
   "id": "8187e642-9242-4b71-b8e6-ba6d5d9589ae",
   "metadata": {},
   "outputs": [
    {
     "name": "stdout",
     "output_type": "stream",
     "text": [
      "more commenting!\n"
     ]
    }
   ],
   "source": [
    "'''\n",
    "This is \n",
    "a \n",
    "paragraph\n",
    "of \n",
    "text comment!\n",
    "'''\n",
    "\n",
    "print(\"more commenting!\")"
   ]
  },
  {
   "cell_type": "code",
   "execution_count": 18,
   "id": "186f6c28-12b3-441c-ac7c-8e3a855981c2",
   "metadata": {},
   "outputs": [
    {
     "name": "stdout",
     "output_type": "stream",
     "text": [
      "And even more!\n"
     ]
    }
   ],
   "source": [
    "# This is also\n",
    "# a \n",
    "# paragraph\n",
    "# of \n",
    "# text comment!\n",
    "''' Lots of comments'''\n",
    "\n",
    "print(\"And even more!\")"
   ]
  },
  {
   "cell_type": "markdown",
   "id": "0b1ddbcb-f545-422f-a1ac-a78dc2923b5d",
   "metadata": {},
   "source": [
    "The end of the commenting section!"
   ]
  },
  {
   "cell_type": "markdown",
   "id": "3e908b66-0b58-4218-99f9-ff5ad54b15b9",
   "metadata": {},
   "source": [
    "### Variables"
   ]
  },
  {
   "cell_type": "code",
   "execution_count": 21,
   "id": "81142b94-a938-41eb-8698-00a7f5ad6786",
   "metadata": {},
   "outputs": [],
   "source": [
    "num_of_wheels = 6"
   ]
  },
  {
   "cell_type": "code",
   "execution_count": 22,
   "id": "ffe1f216-4d18-4bbd-836f-bd6aa3b6cfff",
   "metadata": {},
   "outputs": [
    {
     "name": "stdout",
     "output_type": "stream",
     "text": [
      "6\n",
      "1\n",
      "2\n"
     ]
    }
   ],
   "source": [
    "# Assignment is made using the \" = \"\n",
    "Sam = 1\n",
    "Bob = 2\n",
    "\n",
    "print(num_of_wheels)\n",
    "print(Sam)\n",
    "print(Bob)"
   ]
  },
  {
   "cell_type": "code",
   "execution_count": 23,
   "id": "75c2fe4b-fb65-4ba4-8efb-69cabf46857b",
   "metadata": {},
   "outputs": [
    {
     "data": {
      "text/plain": [
       "1"
      ]
     },
     "execution_count": 23,
     "metadata": {},
     "output_type": "execute_result"
    }
   ],
   "source": [
    "Sam"
   ]
  },
  {
   "cell_type": "code",
   "execution_count": 24,
   "id": "b4d16b35-f4b5-4ae4-b06d-8338fc3fbee8",
   "metadata": {},
   "outputs": [
    {
     "name": "stdout",
     "output_type": "stream",
     "text": [
      "Hello!\n"
     ]
    }
   ],
   "source": [
    "another_variable = \"Hello!\"\n",
    "print(another_variable)"
   ]
  },
  {
   "cell_type": "code",
   "execution_count": 25,
   "id": "9ca01fa1-61b2-4d3b-9e31-212a9effb981",
   "metadata": {},
   "outputs": [
    {
     "name": "stdout",
     "output_type": "stream",
     "text": [
      "\n",
      "Here is a list of the Python keywords.  Enter any keyword to get more help.\n",
      "\n",
      "False               break               for                 not\n",
      "None                class               from                or\n",
      "True                continue            global              pass\n",
      "__peg_parser__      def                 if                  raise\n",
      "and                 del                 import              return\n",
      "as                  elif                in                  try\n",
      "assert              else                is                  while\n",
      "async               except              lambda              with\n",
      "await               finally             nonlocal            yield\n",
      "\n"
     ]
    }
   ],
   "source": [
    "#Recall the Python naming conventions\n",
    "'''\n",
    "- be meaningful\n",
    "- case sensitive\n",
    "- start with a letter or _\n",
    "- cannot have symbols\n",
    "- cannot be a reserved key word (True, False, if)\n",
    "'''\n",
    "help(\"keywords\")"
   ]
  },
  {
   "cell_type": "code",
   "execution_count": 26,
   "id": "941092d1-92fc-4be2-bd5a-e83ab0c69d81",
   "metadata": {},
   "outputs": [
    {
     "data": {
      "text/plain": [
       "False"
      ]
     },
     "execution_count": 26,
     "metadata": {},
     "output_type": "execute_result"
    }
   ],
   "source": [
    "Sam = 3\n",
    "sam = 2\n",
    "# Sam and sam are not the same\n",
    "Sam == sam"
   ]
  },
  {
   "cell_type": "code",
   "execution_count": 27,
   "id": "24ad94c7-a6a5-4d06-971d-ce609ec8d110",
   "metadata": {},
   "outputs": [
    {
     "name": "stdout",
     "output_type": "stream",
     "text": [
      "0 0 0\n"
     ]
    }
   ],
   "source": [
    "# Assign multiple variables at once\n",
    "a = b = c = 0\n",
    "\n",
    "print(a,b,c)"
   ]
  },
  {
   "cell_type": "code",
   "execution_count": 28,
   "id": "cfd36627-1c14-48f8-aa96-adf29e95a7fc",
   "metadata": {},
   "outputs": [
    {
     "ename": "NameError",
     "evalue": "name 'sam' is not defined",
     "output_type": "error",
     "traceback": [
      "\u001b[1;31m---------------------------------------------------------------------------\u001b[0m",
      "\u001b[1;31mNameError\u001b[0m                                 Traceback (most recent call last)",
      "Cell \u001b[1;32mIn[28], line 2\u001b[0m\n\u001b[0;32m      1\u001b[0m \u001b[38;5;28;01mdel\u001b[39;00m sam\n\u001b[1;32m----> 2\u001b[0m Sam \u001b[38;5;241m==\u001b[39m \u001b[43msam\u001b[49m\n",
      "\u001b[1;31mNameError\u001b[0m: name 'sam' is not defined"
     ]
    }
   ],
   "source": [
    "del sam\n",
    "Sam == sam"
   ]
  }
 ],
 "metadata": {
  "kernelspec": {
   "display_name": "Python [conda env:base] *",
   "language": "python",
   "name": "conda-base-py"
  },
  "language_info": {
   "codemirror_mode": {
    "name": "ipython",
    "version": 3
   },
   "file_extension": ".py",
   "mimetype": "text/x-python",
   "name": "python",
   "nbconvert_exporter": "python",
   "pygments_lexer": "ipython3",
   "version": "3.9.17"
  }
 },
 "nbformat": 4,
 "nbformat_minor": 5
}
