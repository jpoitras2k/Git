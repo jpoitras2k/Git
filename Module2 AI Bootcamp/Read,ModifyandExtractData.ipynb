{
 "cells": [
  {
   "cell_type": "markdown",
   "id": "a974df58",
   "metadata": {},
   "source": [
    "You will need to reload the Iris dataset.\n",
    "\n",
    "You need to code the following tasks to complete this Mission in the editor provided:\n",
    "\n",
    "Load the Iris dataset from the Scikit-Learn library.\n",
    "Extract data tuple with index 9 and its target.\n",
    "Extract the sepal width (in cm) of the plant with index 9 and its target label as in integer 0, 1 or 2.\n",
    "Your code should return the image of the ninth index’s sepal_width and its label.\n",
    "\n",
    "HINT: The sepal width (in cm) is the element with index 1 in the data tuple."
   ]
  }
 ],
 "metadata": {
  "language_info": {
   "name": "python"
  }
 },
 "nbformat": 4,
 "nbformat_minor": 5
}
