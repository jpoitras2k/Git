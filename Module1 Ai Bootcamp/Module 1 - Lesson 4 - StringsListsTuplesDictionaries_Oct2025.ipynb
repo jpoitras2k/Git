{
 "cells": [
  {
   "cell_type": "markdown",
   "id": "d5ae9757-35b8-4fa3-8e4f-03f617dd1cb0",
   "metadata": {},
   "source": [
    "<h1><center> Module 1 - Lesson 4 </center></h1>\n",
    "\n",
    "#### In-Depth Data Types: String, List, Tuple and Dictionary: \n",
    "\n",
    "---\n",
    "Indexing, manipulation, methods and functions for:\n",
    "- Strings\n",
    "- Lists\n",
    "- Tuples\n",
    "- Dictionaries\n"
   ]
  },
  {
   "cell_type": "markdown",
   "id": "f4e8d1a1-b949-4b81-95ab-8d02af75cb85",
   "metadata": {
    "jp-MarkdownHeadingCollapsed": true
   },
   "source": [
    "### Strings"
   ]
  },
  {
   "cell_type": "code",
   "execution_count": 5,
   "id": "07b79fef-c496-4920-bda9-2fbb9b77747e",
   "metadata": {
    "scrolled": true
   },
   "outputs": [
    {
     "name": "stdout",
     "output_type": "stream",
     "text": [
      "Hello World!\n"
     ]
    }
   ],
   "source": [
    "print(\"Hello World!\")"
   ]
  },
  {
   "cell_type": "code",
   "execution_count": 7,
   "id": "bcde3062-70eb-4ffb-b63e-b7a25f4d3f07",
   "metadata": {},
   "outputs": [],
   "source": [
    "Str = \"Machine Learning is awesome!\""
   ]
  },
  {
   "cell_type": "code",
   "execution_count": 17,
   "id": "915311dc-3946-4d03-a6da-b4a74b88f02b",
   "metadata": {},
   "outputs": [
    {
     "data": {
      "text/plain": [
       "'L'"
      ]
     },
     "execution_count": 17,
     "metadata": {},
     "output_type": "execute_result"
    }
   ],
   "source": [
    "Str[8]"
   ]
  },
  {
   "cell_type": "code",
   "execution_count": 23,
   "id": "cd20850b-1fc6-496e-9776-62c9c40bc401",
   "metadata": {},
   "outputs": [
    {
     "data": {
      "text/plain": [
       "'Learning'"
      ]
     },
     "execution_count": 23,
     "metadata": {},
     "output_type": "execute_result"
    }
   ],
   "source": [
    "substring = Str[8:16]\n",
    "substring"
   ]
  },
  {
   "cell_type": "code",
   "execution_count": 41,
   "id": "7593c21d-ea68-41d1-aff6-d86540a48641",
   "metadata": {},
   "outputs": [
    {
     "data": {
      "text/plain": [
       "'Learning is awesome!'"
      ]
     },
     "execution_count": 41,
     "metadata": {},
     "output_type": "execute_result"
    }
   ],
   "source": [
    "Str[8:]"
   ]
  },
  {
   "cell_type": "code",
   "execution_count": 33,
   "id": "177b78d0-2333-42d1-ba8a-9ee95f18d313",
   "metadata": {},
   "outputs": [
    {
     "data": {
      "text/plain": [
       "'!'"
      ]
     },
     "execution_count": 33,
     "metadata": {},
     "output_type": "execute_result"
    }
   ],
   "source": [
    "Str[-1]"
   ]
  },
  {
   "cell_type": "code",
   "execution_count": 35,
   "id": "28da00b8-4221-499c-a2b3-78ba0b01502d",
   "metadata": {},
   "outputs": [
    {
     "data": {
      "text/plain": [
       "'some'"
      ]
     },
     "execution_count": 35,
     "metadata": {},
     "output_type": "execute_result"
    }
   ],
   "source": [
    "Str[-5:-1]"
   ]
  },
  {
   "cell_type": "code",
   "execution_count": 45,
   "id": "e3244197-ea26-40ea-bd12-2dbc9bf9afea",
   "metadata": {},
   "outputs": [
    {
     "data": {
      "text/plain": [
       "'machine Learning is awesome!'"
      ]
     },
     "execution_count": 45,
     "metadata": {},
     "output_type": "execute_result"
    }
   ],
   "source": [
    "Str = \"Machine Learning is awesome!\"\n",
    "#Str[0] = \"m\"\n",
    "Str = \"machine Learning is awesome!\"\n",
    "Str"
   ]
  },
  {
   "cell_type": "markdown",
   "id": "9afe3726-f438-402a-b9f5-e6d99c594541",
   "metadata": {
    "jp-MarkdownHeadingCollapsed": true
   },
   "source": [
    "### String Operators"
   ]
  },
  {
   "cell_type": "code",
   "execution_count": 68,
   "id": "4c3f1bf6-7bd7-4ba2-bee1-68c33fc965c2",
   "metadata": {},
   "outputs": [
    {
     "data": {
      "text/plain": [
       "'Machine Learning is awesome!'"
      ]
     },
     "execution_count": 68,
     "metadata": {},
     "output_type": "execute_result"
    }
   ],
   "source": [
    "Str = \"Machine Learning is awesome!\"\n",
    "Str"
   ]
  },
  {
   "cell_type": "code",
   "execution_count": 70,
   "id": "a07d4159-fce4-4492-b85f-7ebcfc4a74ac",
   "metadata": {},
   "outputs": [
    {
     "data": {
      "text/plain": [
       "'Machine Learning is awesome!'"
      ]
     },
     "execution_count": 70,
     "metadata": {},
     "output_type": "execute_result"
    }
   ],
   "source": [
    "string_1 = Str\n",
    "string_1"
   ]
  },
  {
   "cell_type": "code",
   "execution_count": 72,
   "id": "fbbf2c70-c267-479d-b23e-708746ac8ed5",
   "metadata": {},
   "outputs": [
    {
     "data": {
      "text/plain": [
       "'Machine Learning is awesome! Machine Learning is awesome!'"
      ]
     },
     "execution_count": 72,
     "metadata": {},
     "output_type": "execute_result"
    }
   ],
   "source": [
    "newString = Str + \" \" + Str\n",
    "newString"
   ]
  },
  {
   "cell_type": "code",
   "execution_count": 74,
   "id": "ad78bc90-2a8c-4f6a-9d6b-b1334119afbb",
   "metadata": {},
   "outputs": [
    {
     "data": {
      "text/plain": [
       "'Machine Learning is awesome! Machine Learning is awesome! Machine Learning is awesome! '"
      ]
     },
     "execution_count": 74,
     "metadata": {},
     "output_type": "execute_result"
    }
   ],
   "source": [
    "(Str + \" \") * 3"
   ]
  },
  {
   "cell_type": "markdown",
   "id": "add1f298-d8e8-4471-a3d6-bb4134f781f4",
   "metadata": {},
   "source": [
    "### String Operators"
   ]
  },
  {
   "cell_type": "code",
   "execution_count": null,
   "id": "afbf67bc-e562-40d4-879a-45d72d21e80b",
   "metadata": {},
   "outputs": [],
   "source": []
  },
  {
   "cell_type": "code",
   "execution_count": 86,
   "id": "23b2ce0a-cf94-46b7-b802-9db2451823ee",
   "metadata": {},
   "outputs": [
    {
     "data": {
      "text/plain": [
       "True"
      ]
     },
     "execution_count": 86,
     "metadata": {},
     "output_type": "execute_result"
    }
   ],
   "source": [
    "\"awe\" in Str"
   ]
  },
  {
   "cell_type": "code",
   "execution_count": 88,
   "id": "b40c3db2-2a5d-41e1-b392-e79d18420403",
   "metadata": {},
   "outputs": [
    {
     "data": {
      "text/plain": [
       "False"
      ]
     },
     "execution_count": 88,
     "metadata": {},
     "output_type": "execute_result"
    }
   ],
   "source": [
    "\"awe\" not in Str"
   ]
  },
  {
   "cell_type": "markdown",
   "id": "6a5253cd-640f-4d94-96be-2d2914a3c5f2",
   "metadata": {
    "jp-MarkdownHeadingCollapsed": true
   },
   "source": [
    "#### Escape Characters"
   ]
  },
  {
   "cell_type": "code",
   "execution_count": 91,
   "id": "72e0bf8b-3f74-4f41-a4a0-b2aa59a48f69",
   "metadata": {},
   "outputs": [
    {
     "name": "stdout",
     "output_type": "stream",
     "text": [
      "Nicole's Book\n"
     ]
    }
   ],
   "source": [
    "print(\"Nicole's Book\")"
   ]
  },
  {
   "cell_type": "code",
   "execution_count": 93,
   "id": "c53aa600-7604-4305-9e45-0194de5a23ec",
   "metadata": {},
   "outputs": [
    {
     "name": "stdout",
     "output_type": "stream",
     "text": [
      "Nicole's Book\n"
     ]
    }
   ],
   "source": [
    "print(\"Nicole\\'s Book\")"
   ]
  },
  {
   "cell_type": "code",
   "execution_count": 99,
   "id": "e68244b9-836c-43be-9a1c-9ad69379d163",
   "metadata": {},
   "outputs": [
    {
     "name": "stdout",
     "output_type": "stream",
     "text": [
      "Nicole's\t Book\n"
     ]
    }
   ],
   "source": [
    "print(\"Nicole\\'s\\t Book\")"
   ]
  },
  {
   "cell_type": "code",
   "execution_count": 103,
   "id": "7198a6fd-3a28-40ca-a6da-a5e33c5c8676",
   "metadata": {},
   "outputs": [
    {
     "name": "stdout",
     "output_type": "stream",
     "text": [
      "Nicole\"s\n",
      " Book\n"
     ]
    }
   ],
   "source": [
    "print(\"Nicole\\'s\\n Book\")"
   ]
  },
  {
   "cell_type": "markdown",
   "id": "1a3417ba-14ca-45d6-9ee9-d34963ca8175",
   "metadata": {
    "jp-MarkdownHeadingCollapsed": true
   },
   "source": [
    "#### Formatting Operators"
   ]
  },
  {
   "cell_type": "code",
   "execution_count": 122,
   "id": "fbca10b3-0657-45a1-a062-15c62536833b",
   "metadata": {},
   "outputs": [
    {
     "name": "stdout",
     "output_type": "stream",
     "text": [
      "Hi! I'm Robo!\n",
      "Hi! I'm Nicole and I'm  10.5 !\n"
     ]
    }
   ],
   "source": [
    "name = \"Nicole\"\n",
    "age = 10.5\n",
    "\n",
    "print(\"Hi! I'm Robo!\")\n",
    "print(\"Hi! I'm\", name +\" and I'm \",age,\"!\")"
   ]
  },
  {
   "cell_type": "code",
   "execution_count": 124,
   "id": "058f432d-0253-4316-b6ab-d976ce9b7e36",
   "metadata": {},
   "outputs": [
    {
     "name": "stdout",
     "output_type": "stream",
     "text": [
      "Hi! I'm Nicole and I'm 10.500000 years old!\n"
     ]
    }
   ],
   "source": [
    "print(\"Hi! I'm %s and I'm %f years old!\" %(name, age))"
   ]
  },
  {
   "cell_type": "markdown",
   "id": "4e797207-c5dd-44fa-897e-fd3f957d6221",
   "metadata": {},
   "source": [
    "### String Methods"
   ]
  },
  {
   "cell_type": "code",
   "execution_count": 129,
   "id": "b11be963-36b1-4289-8671-b7683fba5451",
   "metadata": {
    "scrolled": true
   },
   "outputs": [
    {
     "data": {
      "text/plain": [
       "['__add__',\n",
       " '__class__',\n",
       " '__contains__',\n",
       " '__delattr__',\n",
       " '__dir__',\n",
       " '__doc__',\n",
       " '__eq__',\n",
       " '__format__',\n",
       " '__ge__',\n",
       " '__getattribute__',\n",
       " '__getitem__',\n",
       " '__getnewargs__',\n",
       " '__gt__',\n",
       " '__hash__',\n",
       " '__init__',\n",
       " '__init_subclass__',\n",
       " '__iter__',\n",
       " '__le__',\n",
       " '__len__',\n",
       " '__lt__',\n",
       " '__mod__',\n",
       " '__mul__',\n",
       " '__ne__',\n",
       " '__new__',\n",
       " '__reduce__',\n",
       " '__reduce_ex__',\n",
       " '__repr__',\n",
       " '__rmod__',\n",
       " '__rmul__',\n",
       " '__setattr__',\n",
       " '__sizeof__',\n",
       " '__str__',\n",
       " '__subclasshook__',\n",
       " 'capitalize',\n",
       " 'casefold',\n",
       " 'center',\n",
       " 'count',\n",
       " 'encode',\n",
       " 'endswith',\n",
       " 'expandtabs',\n",
       " 'find',\n",
       " 'format',\n",
       " 'format_map',\n",
       " 'index',\n",
       " 'isalnum',\n",
       " 'isalpha',\n",
       " 'isascii',\n",
       " 'isdecimal',\n",
       " 'isdigit',\n",
       " 'isidentifier',\n",
       " 'islower',\n",
       " 'isnumeric',\n",
       " 'isprintable',\n",
       " 'isspace',\n",
       " 'istitle',\n",
       " 'isupper',\n",
       " 'join',\n",
       " 'ljust',\n",
       " 'lower',\n",
       " 'lstrip',\n",
       " 'maketrans',\n",
       " 'partition',\n",
       " 'removeprefix',\n",
       " 'removesuffix',\n",
       " 'replace',\n",
       " 'rfind',\n",
       " 'rindex',\n",
       " 'rjust',\n",
       " 'rpartition',\n",
       " 'rsplit',\n",
       " 'rstrip',\n",
       " 'split',\n",
       " 'splitlines',\n",
       " 'startswith',\n",
       " 'strip',\n",
       " 'swapcase',\n",
       " 'title',\n",
       " 'translate',\n",
       " 'upper',\n",
       " 'zfill']"
      ]
     },
     "execution_count": 129,
     "metadata": {},
     "output_type": "execute_result"
    }
   ],
   "source": [
    "dir(name)"
   ]
  },
  {
   "cell_type": "code",
   "execution_count": 151,
   "id": "d0b7a0ae-9977-4def-807a-9700174bb077",
   "metadata": {},
   "outputs": [
    {
     "data": {
      "text/plain": [
       "'i like books'"
      ]
     },
     "execution_count": 151,
     "metadata": {},
     "output_type": "execute_result"
    }
   ],
   "source": [
    "string = \"i like books\"\n",
    "string"
   ]
  },
  {
   "cell_type": "code",
   "execution_count": 153,
   "id": "412c425c-8fca-4432-870c-3cf6fd24bc28",
   "metadata": {},
   "outputs": [
    {
     "data": {
      "text/plain": [
       "'I like books'"
      ]
     },
     "execution_count": 153,
     "metadata": {},
     "output_type": "execute_result"
    }
   ],
   "source": [
    "string = string.capitalize()\n",
    "string"
   ]
  },
  {
   "cell_type": "code",
   "execution_count": 155,
   "id": "e3c16438-2ca5-4014-a13d-bcff9002d910",
   "metadata": {},
   "outputs": [
    {
     "data": {
      "text/plain": [
       "2"
      ]
     },
     "execution_count": 155,
     "metadata": {},
     "output_type": "execute_result"
    }
   ],
   "source": [
    "string.count(\"k\")"
   ]
  },
  {
   "cell_type": "code",
   "execution_count": 157,
   "id": "e1316caf-c68d-451b-b480-96c2513bfd19",
   "metadata": {},
   "outputs": [
    {
     "data": {
      "text/plain": [
       "'I like books'"
      ]
     },
     "execution_count": 157,
     "metadata": {},
     "output_type": "execute_result"
    }
   ],
   "source": [
    "string"
   ]
  },
  {
   "cell_type": "code",
   "execution_count": 159,
   "id": "4a1f6f12-8351-47de-9fbb-cbe6457803b7",
   "metadata": {},
   "outputs": [
    {
     "data": {
      "text/plain": [
       "'I LIKE BOOKS'"
      ]
     },
     "execution_count": 159,
     "metadata": {},
     "output_type": "execute_result"
    }
   ],
   "source": [
    "string = string.upper()\n",
    "string"
   ]
  },
  {
   "cell_type": "code",
   "execution_count": 167,
   "id": "39834ea8-645b-473f-b6f2-7a74d34460af",
   "metadata": {},
   "outputs": [
    {
     "data": {
      "text/plain": [
       "12"
      ]
     },
     "execution_count": 167,
     "metadata": {},
     "output_type": "execute_result"
    }
   ],
   "source": [
    "length_of_string = len(string.lower())\n",
    "length_of_string"
   ]
  },
  {
   "cell_type": "markdown",
   "id": "330ca6f5-0500-405d-a216-0934d9295bd8",
   "metadata": {},
   "source": [
    "List of all methods for Built-in Data Types:\n",
    "<br>\n",
    "https://docs.python.org/3/library/stdtypes.html"
   ]
  },
  {
   "cell_type": "markdown",
   "id": "627763e9-3ece-4945-9769-6ee16169e8f2",
   "metadata": {},
   "source": [
    "### Lists"
   ]
  },
  {
   "cell_type": "code",
   "execution_count": 6,
   "id": "7f5929df-418b-4ebe-a32a-e61a13dfc6b4",
   "metadata": {},
   "outputs": [
    {
     "data": {
      "text/plain": [
       "[1, 2, 3, 4, 5]"
      ]
     },
     "execution_count": 6,
     "metadata": {},
     "output_type": "execute_result"
    }
   ],
   "source": [
    "# Create a list with assignment, and [] brackets\n",
    "# mutable, and positions are saved\n",
    "my_list = [1,2,3,4,5]\n",
    "my_list"
   ]
  },
  {
   "cell_type": "code",
   "execution_count": 10,
   "id": "cfe09068-f784-40e3-a403-864c997e74b9",
   "metadata": {},
   "outputs": [
    {
     "data": {
      "text/plain": [
       "[1, 2]"
      ]
     },
     "execution_count": 10,
     "metadata": {},
     "output_type": "execute_result"
    }
   ],
   "source": [
    "my_list[:2]"
   ]
  },
  {
   "cell_type": "code",
   "execution_count": 12,
   "id": "e6334fa9-f571-4713-a15b-2d69605cea37",
   "metadata": {},
   "outputs": [
    {
     "data": {
      "text/plain": [
       "[2, 3, 4]"
      ]
     },
     "execution_count": 12,
     "metadata": {},
     "output_type": "execute_result"
    }
   ],
   "source": [
    "my_list[1:4]"
   ]
  },
  {
   "cell_type": "code",
   "execution_count": 14,
   "id": "504acd76-52e7-41ef-9be8-74300d45ba7e",
   "metadata": {},
   "outputs": [
    {
     "data": {
      "text/plain": [
       "[2, 3, 4]"
      ]
     },
     "execution_count": 14,
     "metadata": {},
     "output_type": "execute_result"
    }
   ],
   "source": [
    "my_subset = my_list[1:4]\n",
    "my_subset"
   ]
  },
  {
   "cell_type": "code",
   "execution_count": 16,
   "id": "aab5bf32-e49f-4253-b8ad-aa1e870f0075",
   "metadata": {},
   "outputs": [
    {
     "name": "stdout",
     "output_type": "stream",
     "text": [
      "[2, 3, 400]\n",
      "[1, 2, 3, 4, 5]\n"
     ]
    }
   ],
   "source": [
    "my_subset[-1] = 400\n",
    "print(my_subset)\n",
    "print(my_list)"
   ]
  },
  {
   "cell_type": "markdown",
   "id": "ad009b32-4401-456a-9ce9-71fee59d7499",
   "metadata": {},
   "source": [
    "## Lists are objects"
   ]
  },
  {
   "cell_type": "code",
   "execution_count": 19,
   "id": "2a63d2c3-c15c-431c-9356-3fcecf006c85",
   "metadata": {},
   "outputs": [
    {
     "data": {
      "text/plain": [
       "[1, 2, 3, 5]"
      ]
     },
     "execution_count": 19,
     "metadata": {},
     "output_type": "execute_result"
    }
   ],
   "source": [
    "# Can use a METHOD, created with the list, to modify the list object\n",
    "my_list.remove(4)\n",
    "my_list"
   ]
  },
  {
   "cell_type": "code",
   "execution_count": 21,
   "id": "d4c6a727-fdb9-4087-b0d1-59af9be32aa2",
   "metadata": {},
   "outputs": [
    {
     "data": {
      "text/plain": [
       "[2, 3, 400, 500]"
      ]
     },
     "execution_count": 21,
     "metadata": {},
     "output_type": "execute_result"
    }
   ],
   "source": [
    "my_subset.append(500)\n",
    "my_subset"
   ]
  },
  {
   "cell_type": "code",
   "execution_count": 23,
   "id": "84b15342-00a7-4501-8e66-967e8b44db42",
   "metadata": {},
   "outputs": [
    {
     "data": {
      "text/plain": [
       "[1, 2, 3, 400, 500]"
      ]
     },
     "execution_count": 23,
     "metadata": {},
     "output_type": "execute_result"
    }
   ],
   "source": [
    "my_subset.insert(0,1)\n",
    "my_subset"
   ]
  },
  {
   "cell_type": "code",
   "execution_count": 25,
   "id": "9c703f22-9b7b-439f-9902-6d05b7a2461e",
   "metadata": {},
   "outputs": [
    {
     "data": {
      "text/plain": [
       "5"
      ]
     },
     "execution_count": 25,
     "metadata": {},
     "output_type": "execute_result"
    }
   ],
   "source": [
    "len(my_subset)"
   ]
  },
  {
   "cell_type": "code",
   "execution_count": 27,
   "id": "86975e0c-99be-4531-a7f6-a54cb2d6dd6e",
   "metadata": {},
   "outputs": [
    {
     "data": {
      "text/plain": [
       "[2, 3, 400, 500]"
      ]
     },
     "execution_count": 27,
     "metadata": {},
     "output_type": "execute_result"
    }
   ],
   "source": [
    "del my_subset[0]\n",
    "my_subset"
   ]
  },
  {
   "cell_type": "code",
   "execution_count": 29,
   "id": "0384185f-f485-430d-988c-2ffb750924fe",
   "metadata": {},
   "outputs": [],
   "source": [
    "del my_subset"
   ]
  },
  {
   "cell_type": "code",
   "execution_count": 31,
   "id": "871873aa-fc34-485c-afe3-f742839761f1",
   "metadata": {},
   "outputs": [
    {
     "ename": "NameError",
     "evalue": "name 'my_subset' is not defined",
     "output_type": "error",
     "traceback": [
      "\u001b[1;31m---------------------------------------------------------------------------\u001b[0m",
      "\u001b[1;31mNameError\u001b[0m                                 Traceback (most recent call last)",
      "Cell \u001b[1;32mIn[31], line 1\u001b[0m\n\u001b[1;32m----> 1\u001b[0m \u001b[43mmy_subset\u001b[49m\n",
      "\u001b[1;31mNameError\u001b[0m: name 'my_subset' is not defined"
     ]
    }
   ],
   "source": [
    "my_subset"
   ]
  },
  {
   "cell_type": "markdown",
   "id": "96ea3e7a-bcfe-4bb8-83b7-cf8971dfa37f",
   "metadata": {},
   "source": [
    "### Can apply operators to Lists"
   ]
  },
  {
   "cell_type": "code",
   "execution_count": 34,
   "id": "5fabf06e-9bfe-40a4-b29b-ca7a87116b3a",
   "metadata": {},
   "outputs": [
    {
     "data": {
      "text/plain": [
       "[100, 200, 300]"
      ]
     },
     "execution_count": 34,
     "metadata": {},
     "output_type": "execute_result"
    }
   ],
   "source": [
    "list1 = [100, 200, 300]\n",
    "list1"
   ]
  },
  {
   "cell_type": "code",
   "execution_count": 36,
   "id": "d3463106-de9a-485c-893a-9a497788b618",
   "metadata": {},
   "outputs": [
    {
     "data": {
      "text/plain": [
       "[100, 200, 300, 100, 200, 300]"
      ]
     },
     "execution_count": 36,
     "metadata": {},
     "output_type": "execute_result"
    }
   ],
   "source": [
    "list1 + list1"
   ]
  },
  {
   "cell_type": "code",
   "execution_count": 38,
   "id": "21020bd3-d15a-48c3-9ff1-c9b7a3fc0a77",
   "metadata": {},
   "outputs": [
    {
     "data": {
      "text/plain": [
       "[100, 200, 300, 100, 200, 300]"
      ]
     },
     "execution_count": 38,
     "metadata": {},
     "output_type": "execute_result"
    }
   ],
   "source": [
    "list2 = list1 + list1\n",
    "list2"
   ]
  },
  {
   "cell_type": "code",
   "execution_count": 40,
   "id": "10e5d337-4617-4098-a5d7-d14124be800d",
   "metadata": {},
   "outputs": [
    {
     "data": {
      "text/plain": [
       "True"
      ]
     },
     "execution_count": 40,
     "metadata": {},
     "output_type": "execute_result"
    }
   ],
   "source": [
    "100 in list2"
   ]
  },
  {
   "cell_type": "code",
   "execution_count": 44,
   "id": "bbeab853-7ef5-4213-a979-27d29d242a20",
   "metadata": {},
   "outputs": [
    {
     "data": {
      "text/plain": [
       "True"
      ]
     },
     "execution_count": 44,
     "metadata": {},
     "output_type": "execute_result"
    }
   ],
   "source": [
    "400 not in list2"
   ]
  },
  {
   "cell_type": "code",
   "execution_count": 48,
   "id": "cd07e252-99fd-49d0-9967-2e0fac661822",
   "metadata": {},
   "outputs": [
    {
     "data": {
      "text/plain": [
       "6"
      ]
     },
     "execution_count": 48,
     "metadata": {},
     "output_type": "execute_result"
    }
   ],
   "source": [
    "len(list2)"
   ]
  },
  {
   "cell_type": "code",
   "execution_count": 72,
   "id": "aca2af13-1b9d-4746-a493-d9c90c0ce37f",
   "metadata": {},
   "outputs": [
    {
     "name": "stdout",
     "output_type": "stream",
     "text": [
      "[300, 300, 200, 200, 100, 100]\n",
      "2\n"
     ]
    },
    {
     "data": {
      "text/plain": [
       "4"
      ]
     },
     "execution_count": 72,
     "metadata": {},
     "output_type": "execute_result"
    }
   ],
   "source": [
    "print(list2)\n",
    "print(list2.count(100))\n",
    "list2.index(100)"
   ]
  },
  {
   "cell_type": "code",
   "execution_count": 58,
   "id": "5a7fce10-63ed-451b-97c9-8246c016abe0",
   "metadata": {},
   "outputs": [
    {
     "data": {
      "text/plain": [
       "[300, 300, 200, 200, 100, 100]"
      ]
     },
     "execution_count": 58,
     "metadata": {},
     "output_type": "execute_result"
    }
   ],
   "source": [
    "list2.sort(reverse = True)\n",
    "list2"
   ]
  },
  {
   "cell_type": "code",
   "execution_count": 60,
   "id": "48712ba0-7e39-471b-a4a5-5d34523f126f",
   "metadata": {},
   "outputs": [
    {
     "data": {
      "text/plain": [
       "['u', 'o', 'i', 'e', 'a']"
      ]
     },
     "execution_count": 60,
     "metadata": {},
     "output_type": "execute_result"
    }
   ],
   "source": [
    "vowels = ['e', 'a', 'u', 'o', 'i']\n",
    "vowels.sort(reverse = True)\n",
    "vowels"
   ]
  },
  {
   "cell_type": "markdown",
   "id": "9b5dd360-b184-4bb2-98ed-7538daf2d5c9",
   "metadata": {},
   "source": [
    "### Tuples"
   ]
  },
  {
   "cell_type": "code",
   "execution_count": 75,
   "id": "97023c4d-612a-45c2-b989-5adc4afb2418",
   "metadata": {},
   "outputs": [
    {
     "data": {
      "text/plain": [
       "(0.1, 0.2, 0.3)"
      ]
     },
     "execution_count": 75,
     "metadata": {},
     "output_type": "execute_result"
    }
   ],
   "source": [
    "my_tuple = (0.1, 0.2, 0.3)\n",
    "my_tuple"
   ]
  },
  {
   "cell_type": "code",
   "execution_count": 77,
   "id": "e2100620-653f-4b07-b9ea-8808ad6672c1",
   "metadata": {},
   "outputs": [
    {
     "data": {
      "text/plain": [
       "3"
      ]
     },
     "execution_count": 77,
     "metadata": {},
     "output_type": "execute_result"
    }
   ],
   "source": [
    "len(my_tuple)"
   ]
  },
  {
   "cell_type": "code",
   "execution_count": 81,
   "id": "725e1cb0-b23f-4bdd-bdf0-6719dc8f7dcf",
   "metadata": {},
   "outputs": [
    {
     "data": {
      "text/plain": [
       "0.3"
      ]
     },
     "execution_count": 81,
     "metadata": {},
     "output_type": "execute_result"
    }
   ],
   "source": [
    "max(my_tuple)"
   ]
  },
  {
   "cell_type": "code",
   "execution_count": 83,
   "id": "688f7a3d-1e2e-4671-b7ce-a579dca5cd73",
   "metadata": {},
   "outputs": [
    {
     "ename": "AttributeError",
     "evalue": "'tuple' object has no attribute 'insert'",
     "output_type": "error",
     "traceback": [
      "\u001b[1;31m---------------------------------------------------------------------------\u001b[0m",
      "\u001b[1;31mAttributeError\u001b[0m                            Traceback (most recent call last)",
      "Cell \u001b[1;32mIn[83], line 1\u001b[0m\n\u001b[1;32m----> 1\u001b[0m \u001b[43mmy_tuple\u001b[49m\u001b[38;5;241;43m.\u001b[39;49m\u001b[43minsert\u001b[49m(\u001b[38;5;241m0\u001b[39m,\u001b[38;5;241m0.01\u001b[39m)\n\u001b[0;32m      2\u001b[0m my_tuple\n",
      "\u001b[1;31mAttributeError\u001b[0m: 'tuple' object has no attribute 'insert'"
     ]
    }
   ],
   "source": [
    "my_tuple.insert(0,0.01)\n",
    "my_tuple"
   ]
  },
  {
   "cell_type": "code",
   "execution_count": 85,
   "id": "48cfd29c-dcb4-4f9e-9399-1243f75bf25a",
   "metadata": {},
   "outputs": [
    {
     "data": {
      "text/plain": [
       "False"
      ]
     },
     "execution_count": 85,
     "metadata": {},
     "output_type": "execute_result"
    }
   ],
   "source": [
    "0.01 in my_tuple"
   ]
  },
  {
   "cell_type": "code",
   "execution_count": 87,
   "id": "85b3bcc5-ad1b-416c-aadc-5f35a250241a",
   "metadata": {},
   "outputs": [
    {
     "data": {
      "text/plain": [
       "1"
      ]
     },
     "execution_count": 87,
     "metadata": {},
     "output_type": "execute_result"
    }
   ],
   "source": [
    "my_tuple.count(0.1)"
   ]
  },
  {
   "cell_type": "markdown",
   "id": "15b4e671-42d6-4f08-940c-33928d7dde33",
   "metadata": {},
   "source": [
    "### Set"
   ]
  },
  {
   "cell_type": "markdown",
   "id": "593d07ac-d8c4-4c2b-84c8-d8c3c0bad632",
   "metadata": {},
   "source": [
    "like lists tuples, BUT you cannot repeat values, and values are not indexed {}"
   ]
  },
  {
   "cell_type": "markdown",
   "id": "b125313c-7b97-473d-a7b7-d1a7fcb06ce8",
   "metadata": {},
   "source": [
    "### Dictionaries"
   ]
  },
  {
   "cell_type": "code",
   "execution_count": 145,
   "id": "7d84be96-1177-47c8-80bd-5b51a160e2b7",
   "metadata": {},
   "outputs": [
    {
     "data": {
      "text/plain": [
       "{'h': 'hello'}"
      ]
     },
     "execution_count": 145,
     "metadata": {},
     "output_type": "execute_result"
    }
   ],
   "source": [
    "# Create dictionaries with a set of {} brackets.\n",
    "# Dictionaries are objects and also have methods!\n",
    "\n",
    "dict1 = {\"h\": \"hello\"}\n",
    "dict1"
   ]
  },
  {
   "cell_type": "code",
   "execution_count": 147,
   "id": "e43edda7-e15b-4b22-897d-d521c2636784",
   "metadata": {},
   "outputs": [
    {
     "data": {
      "text/plain": [
       "{'h': 'hello', 'w': 'world'}"
      ]
     },
     "execution_count": 147,
     "metadata": {},
     "output_type": "execute_result"
    }
   ],
   "source": [
    "# Create a dictionary with 2 key: value pairs\n",
    "dict1 = {\"h\": \"hello\",\n",
    "        \"w\" : \"world\" }\n",
    "\n",
    "dict1"
   ]
  },
  {
   "cell_type": "code",
   "execution_count": 149,
   "id": "26e1e52c-51d0-4d55-a72d-256dbf8b135f",
   "metadata": {},
   "outputs": [
    {
     "data": {
      "text/plain": [
       "'hello'"
      ]
     },
     "execution_count": 149,
     "metadata": {},
     "output_type": "execute_result"
    }
   ],
   "source": [
    "#see all values with a particular key\n",
    "dict1[\"h\"]"
   ]
  },
  {
   "cell_type": "code",
   "execution_count": 163,
   "id": "ecc5a5fc-0baf-4b49-8d6d-04155deeaeec",
   "metadata": {},
   "outputs": [
    {
     "data": {
      "text/plain": [
       "{'h': ['hello', 'hi'], 'w': 'world'}"
      ]
     },
     "execution_count": 163,
     "metadata": {},
     "output_type": "execute_result"
    }
   ],
   "source": [
    "# Dictionary values can have any python data type, \n",
    "# here the 'value' is a list of values\n",
    "\n",
    "dict1 = {\"h\": [\"hello\", \"hi\"],\n",
    "        \"w\" : \"world\" }\n",
    "dict1"
   ]
  },
  {
   "cell_type": "code",
   "execution_count": 165,
   "id": "8e28921f-33fe-441e-9995-62dbe5fc2cff",
   "metadata": {},
   "outputs": [
    {
     "data": {
      "text/plain": [
       "{'h': ['hello', 'hi'], 'w': 'world', 'y': [1, 2, 3, 4, 5]}"
      ]
     },
     "execution_count": 165,
     "metadata": {},
     "output_type": "execute_result"
    }
   ],
   "source": [
    "# Add a key to an existing dictionary without re-creating it:\n",
    "dict1[\"y\"] = [1,2,3,4,5]\n",
    "dict1"
   ]
  },
  {
   "cell_type": "code",
   "execution_count": 169,
   "id": "21757efa-4f50-4fb2-90bc-70b58bfb2442",
   "metadata": {},
   "outputs": [
    {
     "data": {
      "text/plain": [
       "{'h': ['hello', 'hi'],\n",
       " 'w': 'world',\n",
       " 'z': {'another': ['dictionary', 'woohoo!']}}"
      ]
     },
     "execution_count": 169,
     "metadata": {},
     "output_type": "execute_result"
    }
   ],
   "source": [
    "# The value can even be another dictionary!\n",
    "\n",
    "dict1 = {\"h\": [\"hello\", \"hi\"],\n",
    "        \"w\" : \"world\",\n",
    "        \"z\": {\"another\": [\"dictionary\", \"woohoo!\"]}}\n",
    "dict1"
   ]
  },
  {
   "cell_type": "code",
   "execution_count": 171,
   "id": "1992817c-8b1d-4ffc-96af-0bb7b3974a22",
   "metadata": {},
   "outputs": [
    {
     "data": {
      "text/plain": [
       "dict_keys(['h', 'w', 'z'])"
      ]
     },
     "execution_count": 171,
     "metadata": {},
     "output_type": "execute_result"
    }
   ],
   "source": [
    "dict1.keys()"
   ]
  },
  {
   "cell_type": "code",
   "execution_count": 173,
   "id": "ba552dc6-ee9b-48a7-973b-db2c263580b6",
   "metadata": {},
   "outputs": [
    {
     "data": {
      "text/plain": [
       "dict_values([['hello', 'hi'], 'world', {'another': ['dictionary', 'woohoo!']}])"
      ]
     },
     "execution_count": 173,
     "metadata": {},
     "output_type": "execute_result"
    }
   ],
   "source": [
    "dict1.values()"
   ]
  },
  {
   "cell_type": "code",
   "execution_count": 175,
   "id": "b23368ee-74b5-4ea3-aac1-8e60ed162a73",
   "metadata": {},
   "outputs": [
    {
     "data": {
      "text/plain": [
       "'hi'"
      ]
     },
     "execution_count": 175,
     "metadata": {},
     "output_type": "execute_result"
    }
   ],
   "source": [
    "# Can index and slice into dictionaries\n",
    "\n",
    "dict1[\"h\"][1] # ['key_name'][index_position based on the data type]"
   ]
  },
  {
   "cell_type": "code",
   "execution_count": 177,
   "id": "fdb37e2b-8213-45f6-9c44-ea950f2ae6d2",
   "metadata": {},
   "outputs": [
    {
     "data": {
      "text/plain": [
       "{'h': ['hello', 'bonjour'],\n",
       " 'w': 'world',\n",
       " 'z': {'another': ['dictionary', 'woohoo!']}}"
      ]
     },
     "execution_count": 177,
     "metadata": {},
     "output_type": "execute_result"
    }
   ],
   "source": [
    "dict1[\"h\"][1] = \"bonjour\"\n",
    "dict1"
   ]
  },
  {
   "cell_type": "code",
   "execution_count": 179,
   "id": "1779f797-eea9-48d7-9f5a-edb578fd155c",
   "metadata": {},
   "outputs": [
    {
     "data": {
      "text/plain": [
       "'woohoo!'"
      ]
     },
     "execution_count": 179,
     "metadata": {},
     "output_type": "execute_result"
    }
   ],
   "source": [
    "# Accessing the embedded dictionary in the and the second item\n",
    "# in the value list\n",
    "dict1[\"z\"][\"another\"][1]"
   ]
  },
  {
   "cell_type": "code",
   "execution_count": 181,
   "id": "0bf1cc9f-edf6-45c8-88b9-1f4510bddfd9",
   "metadata": {},
   "outputs": [
    {
     "data": {
      "text/plain": [
       "{'w': 'world', 'z': {'another': ['dictionary', 'woohoo!']}}"
      ]
     },
     "execution_count": 181,
     "metadata": {},
     "output_type": "execute_result"
    }
   ],
   "source": [
    "del dict1[\"h\"]\n",
    "dict1"
   ]
  },
  {
   "cell_type": "code",
   "execution_count": 183,
   "id": "d5a22ca0-29fc-441e-994a-ad1ddabcc740",
   "metadata": {},
   "outputs": [
    {
     "data": {
      "text/plain": [
       "{}"
      ]
     },
     "execution_count": 183,
     "metadata": {},
     "output_type": "execute_result"
    }
   ],
   "source": [
    "dict1.clear() # Remove all key:value pairs from a dictionary\n",
    "dict1"
   ]
  },
  {
   "cell_type": "code",
   "execution_count": 185,
   "id": "c225a9b0-e317-4ed4-890a-3f2ecd605eb8",
   "metadata": {},
   "outputs": [],
   "source": [
    "# Delete the requested dictionary object\n",
    "del dict1"
   ]
  },
  {
   "cell_type": "code",
   "execution_count": 187,
   "id": "96f55693-455b-4710-8ed8-efe54f0cb24a",
   "metadata": {},
   "outputs": [
    {
     "ename": "NameError",
     "evalue": "name 'dict1' is not defined",
     "output_type": "error",
     "traceback": [
      "\u001b[1;31m---------------------------------------------------------------------------\u001b[0m",
      "\u001b[1;31mNameError\u001b[0m                                 Traceback (most recent call last)",
      "Cell \u001b[1;32mIn[187], line 1\u001b[0m\n\u001b[1;32m----> 1\u001b[0m \u001b[43mdict1\u001b[49m\n",
      "\u001b[1;31mNameError\u001b[0m: name 'dict1' is not defined"
     ]
    }
   ],
   "source": [
    "dict1"
   ]
  }
 ],
 "metadata": {
  "kernelspec": {
   "display_name": "Python [conda env:base] *",
   "language": "python",
   "name": "conda-base-py"
  },
  "language_info": {
   "codemirror_mode": {
    "name": "ipython",
    "version": 3
   },
   "file_extension": ".py",
   "mimetype": "text/x-python",
   "name": "python",
   "nbconvert_exporter": "python",
   "pygments_lexer": "ipython3",
   "version": "3.9.17"
  }
 },
 "nbformat": 4,
 "nbformat_minor": 5
}
