{
 "cells": [
  {
   "cell_type": "markdown",
   "id": "c98c68d1",
   "metadata": {},
   "source": [
    "You will now explore the Mushrooms dataset!\n",
    "\n",
    "Your code should perform the following tasks to complete this mission in the editor provided:\n",
    "\n",
    "Count the edible mushrooms species and calculate their percentage in the dataset.\n",
    "Extract all the unique cap colors in the dataset (n, y, w, etc.).\n",
    "Your code should return edible_count, edible_percentage, and cap_colors.\n",
    "\n",
    "Revisit the Mushroom dataset here."
   ]
  },
  {
   "cell_type": "code",
   "execution_count": 10,
   "id": "254854d0",
   "metadata": {},
   "outputs": [
    {
     "name": "stdout",
     "output_type": "stream",
     "text": [
      "Edible count: 8124\n",
      "Number of edible mushrooms: 4208\n",
      "Percentage of edible mushrooms: 51.80%\n",
      "Unique cap colors in the dataset: ['n' 'y' 'w' 'g' 'e' 'p' 'b' 'u' 'c' 'r']\n",
      "edible_percentage: 51, cap_colors: ['n' 'y' 'w' 'g' 'e' 'p' 'b' 'u' 'c' 'r']\n"
     ]
    }
   ],
   "source": [
    "# Importing the pandas library, import Mushroom dataset\n",
    "\n",
    "import pandas as pd\n",
    "dataset= pd.read_csv(\"mushrooms.csv\")\n",
    "\n",
    "edible_count = dataset['class'].count()  # Count all entries in the 'class' column of e or p\n",
    "\n",
    "dataset_edible_mush = dataset[dataset['class'] == \"e\"]  #Count all entries in the 'class' column of e\n",
    "num_edible = len(dataset_edible_mush) # Count number of rows in the edible filtered dataset\n",
    "\n",
    "percentage_edible = (num_edible / edible_count) * 100  # Calculate percentage of edible mushrooms\n",
    "print(f\"Edible count: {edible_count}\")\n",
    "print(f\"Number of edible mushrooms: {num_edible}\")\n",
    "print(f\"Percentage of edible mushrooms: {percentage_edible:.2f}%\")\n",
    "\n",
    "#extracting unique values from the 'cap-color' column\n",
    "unique_cap_colors = dataset['cap-color'].unique()\n",
    "print(\"Unique cap colors in the dataset:\", unique_cap_colors)\n",
    "\n",
    "edible_percentage = int(percentage_edible)\n",
    "cap_colors = unique_cap_colors\n",
    "print (f\"edible_percentage: {edible_percentage}, cap_colors: {cap_colors}\")\n",
    "\n"
   ]
  }
 ],
 "metadata": {
  "kernelspec": {
   "display_name": ".venv",
   "language": "python",
   "name": "python3"
  },
  "language_info": {
   "codemirror_mode": {
    "name": "ipython",
    "version": 3
   },
   "file_extension": ".py",
   "mimetype": "text/x-python",
   "name": "python",
   "nbconvert_exporter": "python",
   "pygments_lexer": "ipython3",
   "version": "3.14.0"
  }
 },
 "nbformat": 4,
 "nbformat_minor": 5
}
